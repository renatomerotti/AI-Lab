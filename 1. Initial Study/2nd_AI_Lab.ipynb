{
  "nbformat": 4,
  "nbformat_minor": 0,
  "metadata": {
    "colab": {
      "provenance": []
    },
    "kernelspec": {
      "name": "python3",
      "display_name": "Python 3"
    },
    "language_info": {
      "name": "python"
    }
  },
  "cells": [
    {
      "cell_type": "markdown",
      "source": [
        "# **Step 1: Setting Up the Environment**\n"
      ],
      "metadata": {
        "id": "4jGR6MxEl0uX"
      }
    },
    {
      "cell_type": "markdown",
      "source": [
        "**Login and create a new notebook**\n",
        "\n",
        "Required Libraries:\n",
        "pandas and scikit-learn\n",
        "\n",
        "*   Colab already has **pandas** and **scikit-learn** pre-installed\n",
        "\n",
        "\n",
        "Library: **pandas** for data manipulation\n",
        "\n",
        "Library: **scikit-learn** to implement the model"
      ],
      "metadata": {
        "id": "u6jr85pb2UoZ"
      }
    },
    {
      "cell_type": "markdown",
      "source": [
        "# **Step 2: Importing Libraries and Loading the Dataset**"
      ],
      "metadata": {
        "id": "dVM4ToSdtT65"
      }
    },
    {
      "cell_type": "markdown",
      "source": [
        "### **2.1 Import the Libraries**"
      ],
      "metadata": {
        "id": "a_8ocFcrt6rG"
      }
    },
    {
      "cell_type": "code",
      "source": [
        "import pandas as pd\n",
        "import numpy as np\n",
        "from sklearn.linear_model import LinearRegression\n",
        "from sklearn.model_selection import train_test_split\n",
        "from sklearn.metrics import mean_squared_error, r2_score"
      ],
      "metadata": {
        "id": "DK5sthyfm0Jc"
      },
      "execution_count": null,
      "outputs": []
    },
    {
      "cell_type": "markdown",
      "source": [
        "**Explanation:**\n",
        "\n",
        "* pandas: to handle and analyze the dataset.\n",
        "* numpy: For numerical operations.\n",
        "* LinearRegression: To build our supervised learning model.\n",
        "* train_test_split: To split the dataset into training and testing sets.\n",
        "* mean_squared_error and r2_score: To evaluate the model’s performance."
      ],
      "metadata": {
        "id": "KrsCU9bCnJ6k"
      }
    },
    {
      "cell_type": "markdown",
      "source": [
        "### **2.2 Load the Dataset**\n",
        "\n",
        "Click the Files icon on the left panel and select Upload\n"
      ],
      "metadata": {
        "id": "_ez0Y9IznqET"
      }
    },
    {
      "cell_type": "code",
      "execution_count": null,
      "metadata": {
        "colab": {
          "base_uri": "https://localhost:8080/",
          "height": 206
        },
        "id": "FJ0LltMclsdH",
        "outputId": "6bc547e0-8627-4145-dc31-57d24876fb85"
      },
      "outputs": [
        {
          "output_type": "execute_result",
          "data": {
            "text/plain": [
              "         date  GDP_growth  unemployment_rate  inflation_rate\n",
              "0  2000-03-31    0.242723           7.378637        2.899741\n",
              "1  2000-06-30    4.751796           4.909326        3.359057\n",
              "2  2000-09-30   -1.637014           4.972832        2.771238\n",
              "3  2000-12-31    1.120808           7.710629        3.457831\n",
              "4  2001-03-31    0.450201           5.264270        4.618121"
            ],
            "text/html": [
              "\n",
              "  <div id=\"df-6fae8ed4-706e-4cb9-8eb1-0646bd652b14\" class=\"colab-df-container\">\n",
              "    <div>\n",
              "<style scoped>\n",
              "    .dataframe tbody tr th:only-of-type {\n",
              "        vertical-align: middle;\n",
              "    }\n",
              "\n",
              "    .dataframe tbody tr th {\n",
              "        vertical-align: top;\n",
              "    }\n",
              "\n",
              "    .dataframe thead th {\n",
              "        text-align: right;\n",
              "    }\n",
              "</style>\n",
              "<table border=\"1\" class=\"dataframe\">\n",
              "  <thead>\n",
              "    <tr style=\"text-align: right;\">\n",
              "      <th></th>\n",
              "      <th>date</th>\n",
              "      <th>GDP_growth</th>\n",
              "      <th>unemployment_rate</th>\n",
              "      <th>inflation_rate</th>\n",
              "    </tr>\n",
              "  </thead>\n",
              "  <tbody>\n",
              "    <tr>\n",
              "      <th>0</th>\n",
              "      <td>2000-03-31</td>\n",
              "      <td>0.242723</td>\n",
              "      <td>7.378637</td>\n",
              "      <td>2.899741</td>\n",
              "    </tr>\n",
              "    <tr>\n",
              "      <th>1</th>\n",
              "      <td>2000-06-30</td>\n",
              "      <td>4.751796</td>\n",
              "      <td>4.909326</td>\n",
              "      <td>3.359057</td>\n",
              "    </tr>\n",
              "    <tr>\n",
              "      <th>2</th>\n",
              "      <td>2000-09-30</td>\n",
              "      <td>-1.637014</td>\n",
              "      <td>4.972832</td>\n",
              "      <td>2.771238</td>\n",
              "    </tr>\n",
              "    <tr>\n",
              "      <th>3</th>\n",
              "      <td>2000-12-31</td>\n",
              "      <td>1.120808</td>\n",
              "      <td>7.710629</td>\n",
              "      <td>3.457831</td>\n",
              "    </tr>\n",
              "    <tr>\n",
              "      <th>4</th>\n",
              "      <td>2001-03-31</td>\n",
              "      <td>0.450201</td>\n",
              "      <td>5.264270</td>\n",
              "      <td>4.618121</td>\n",
              "    </tr>\n",
              "  </tbody>\n",
              "</table>\n",
              "</div>\n",
              "    <div class=\"colab-df-buttons\">\n",
              "\n",
              "  <div class=\"colab-df-container\">\n",
              "    <button class=\"colab-df-convert\" onclick=\"convertToInteractive('df-6fae8ed4-706e-4cb9-8eb1-0646bd652b14')\"\n",
              "            title=\"Convert this dataframe to an interactive table.\"\n",
              "            style=\"display:none;\">\n",
              "\n",
              "  <svg xmlns=\"http://www.w3.org/2000/svg\" height=\"24px\" viewBox=\"0 -960 960 960\">\n",
              "    <path d=\"M120-120v-720h720v720H120Zm60-500h600v-160H180v160Zm220 220h160v-160H400v160Zm0 220h160v-160H400v160ZM180-400h160v-160H180v160Zm440 0h160v-160H620v160ZM180-180h160v-160H180v160Zm440 0h160v-160H620v160Z\"/>\n",
              "  </svg>\n",
              "    </button>\n",
              "\n",
              "  <style>\n",
              "    .colab-df-container {\n",
              "      display:flex;\n",
              "      gap: 12px;\n",
              "    }\n",
              "\n",
              "    .colab-df-convert {\n",
              "      background-color: #E8F0FE;\n",
              "      border: none;\n",
              "      border-radius: 50%;\n",
              "      cursor: pointer;\n",
              "      display: none;\n",
              "      fill: #1967D2;\n",
              "      height: 32px;\n",
              "      padding: 0 0 0 0;\n",
              "      width: 32px;\n",
              "    }\n",
              "\n",
              "    .colab-df-convert:hover {\n",
              "      background-color: #E2EBFA;\n",
              "      box-shadow: 0px 1px 2px rgba(60, 64, 67, 0.3), 0px 1px 3px 1px rgba(60, 64, 67, 0.15);\n",
              "      fill: #174EA6;\n",
              "    }\n",
              "\n",
              "    .colab-df-buttons div {\n",
              "      margin-bottom: 4px;\n",
              "    }\n",
              "\n",
              "    [theme=dark] .colab-df-convert {\n",
              "      background-color: #3B4455;\n",
              "      fill: #D2E3FC;\n",
              "    }\n",
              "\n",
              "    [theme=dark] .colab-df-convert:hover {\n",
              "      background-color: #434B5C;\n",
              "      box-shadow: 0px 1px 3px 1px rgba(0, 0, 0, 0.15);\n",
              "      filter: drop-shadow(0px 1px 2px rgba(0, 0, 0, 0.3));\n",
              "      fill: #FFFFFF;\n",
              "    }\n",
              "  </style>\n",
              "\n",
              "    <script>\n",
              "      const buttonEl =\n",
              "        document.querySelector('#df-6fae8ed4-706e-4cb9-8eb1-0646bd652b14 button.colab-df-convert');\n",
              "      buttonEl.style.display =\n",
              "        google.colab.kernel.accessAllowed ? 'block' : 'none';\n",
              "\n",
              "      async function convertToInteractive(key) {\n",
              "        const element = document.querySelector('#df-6fae8ed4-706e-4cb9-8eb1-0646bd652b14');\n",
              "        const dataTable =\n",
              "          await google.colab.kernel.invokeFunction('convertToInteractive',\n",
              "                                                    [key], {});\n",
              "        if (!dataTable) return;\n",
              "\n",
              "        const docLinkHtml = 'Like what you see? Visit the ' +\n",
              "          '<a target=\"_blank\" href=https://colab.research.google.com/notebooks/data_table.ipynb>data table notebook</a>'\n",
              "          + ' to learn more about interactive tables.';\n",
              "        element.innerHTML = '';\n",
              "        dataTable['output_type'] = 'display_data';\n",
              "        await google.colab.output.renderOutput(dataTable, element);\n",
              "        const docLink = document.createElement('div');\n",
              "        docLink.innerHTML = docLinkHtml;\n",
              "        element.appendChild(docLink);\n",
              "      }\n",
              "    </script>\n",
              "  </div>\n",
              "\n",
              "\n",
              "<div id=\"df-d51aae12-e395-4bb1-a157-f4d3e1c851ae\">\n",
              "  <button class=\"colab-df-quickchart\" onclick=\"quickchart('df-d51aae12-e395-4bb1-a157-f4d3e1c851ae')\"\n",
              "            title=\"Suggest charts\"\n",
              "            style=\"display:none;\">\n",
              "\n",
              "<svg xmlns=\"http://www.w3.org/2000/svg\" height=\"24px\"viewBox=\"0 0 24 24\"\n",
              "     width=\"24px\">\n",
              "    <g>\n",
              "        <path d=\"M19 3H5c-1.1 0-2 .9-2 2v14c0 1.1.9 2 2 2h14c1.1 0 2-.9 2-2V5c0-1.1-.9-2-2-2zM9 17H7v-7h2v7zm4 0h-2V7h2v10zm4 0h-2v-4h2v4z\"/>\n",
              "    </g>\n",
              "</svg>\n",
              "  </button>\n",
              "\n",
              "<style>\n",
              "  .colab-df-quickchart {\n",
              "      --bg-color: #E8F0FE;\n",
              "      --fill-color: #1967D2;\n",
              "      --hover-bg-color: #E2EBFA;\n",
              "      --hover-fill-color: #174EA6;\n",
              "      --disabled-fill-color: #AAA;\n",
              "      --disabled-bg-color: #DDD;\n",
              "  }\n",
              "\n",
              "  [theme=dark] .colab-df-quickchart {\n",
              "      --bg-color: #3B4455;\n",
              "      --fill-color: #D2E3FC;\n",
              "      --hover-bg-color: #434B5C;\n",
              "      --hover-fill-color: #FFFFFF;\n",
              "      --disabled-bg-color: #3B4455;\n",
              "      --disabled-fill-color: #666;\n",
              "  }\n",
              "\n",
              "  .colab-df-quickchart {\n",
              "    background-color: var(--bg-color);\n",
              "    border: none;\n",
              "    border-radius: 50%;\n",
              "    cursor: pointer;\n",
              "    display: none;\n",
              "    fill: var(--fill-color);\n",
              "    height: 32px;\n",
              "    padding: 0;\n",
              "    width: 32px;\n",
              "  }\n",
              "\n",
              "  .colab-df-quickchart:hover {\n",
              "    background-color: var(--hover-bg-color);\n",
              "    box-shadow: 0 1px 2px rgba(60, 64, 67, 0.3), 0 1px 3px 1px rgba(60, 64, 67, 0.15);\n",
              "    fill: var(--button-hover-fill-color);\n",
              "  }\n",
              "\n",
              "  .colab-df-quickchart-complete:disabled,\n",
              "  .colab-df-quickchart-complete:disabled:hover {\n",
              "    background-color: var(--disabled-bg-color);\n",
              "    fill: var(--disabled-fill-color);\n",
              "    box-shadow: none;\n",
              "  }\n",
              "\n",
              "  .colab-df-spinner {\n",
              "    border: 2px solid var(--fill-color);\n",
              "    border-color: transparent;\n",
              "    border-bottom-color: var(--fill-color);\n",
              "    animation:\n",
              "      spin 1s steps(1) infinite;\n",
              "  }\n",
              "\n",
              "  @keyframes spin {\n",
              "    0% {\n",
              "      border-color: transparent;\n",
              "      border-bottom-color: var(--fill-color);\n",
              "      border-left-color: var(--fill-color);\n",
              "    }\n",
              "    20% {\n",
              "      border-color: transparent;\n",
              "      border-left-color: var(--fill-color);\n",
              "      border-top-color: var(--fill-color);\n",
              "    }\n",
              "    30% {\n",
              "      border-color: transparent;\n",
              "      border-left-color: var(--fill-color);\n",
              "      border-top-color: var(--fill-color);\n",
              "      border-right-color: var(--fill-color);\n",
              "    }\n",
              "    40% {\n",
              "      border-color: transparent;\n",
              "      border-right-color: var(--fill-color);\n",
              "      border-top-color: var(--fill-color);\n",
              "    }\n",
              "    60% {\n",
              "      border-color: transparent;\n",
              "      border-right-color: var(--fill-color);\n",
              "    }\n",
              "    80% {\n",
              "      border-color: transparent;\n",
              "      border-right-color: var(--fill-color);\n",
              "      border-bottom-color: var(--fill-color);\n",
              "    }\n",
              "    90% {\n",
              "      border-color: transparent;\n",
              "      border-bottom-color: var(--fill-color);\n",
              "    }\n",
              "  }\n",
              "</style>\n",
              "\n",
              "  <script>\n",
              "    async function quickchart(key) {\n",
              "      const quickchartButtonEl =\n",
              "        document.querySelector('#' + key + ' button');\n",
              "      quickchartButtonEl.disabled = true;  // To prevent multiple clicks.\n",
              "      quickchartButtonEl.classList.add('colab-df-spinner');\n",
              "      try {\n",
              "        const charts = await google.colab.kernel.invokeFunction(\n",
              "            'suggestCharts', [key], {});\n",
              "      } catch (error) {\n",
              "        console.error('Error during call to suggestCharts:', error);\n",
              "      }\n",
              "      quickchartButtonEl.classList.remove('colab-df-spinner');\n",
              "      quickchartButtonEl.classList.add('colab-df-quickchart-complete');\n",
              "    }\n",
              "    (() => {\n",
              "      let quickchartButtonEl =\n",
              "        document.querySelector('#df-d51aae12-e395-4bb1-a157-f4d3e1c851ae button');\n",
              "      quickchartButtonEl.style.display =\n",
              "        google.colab.kernel.accessAllowed ? 'block' : 'none';\n",
              "    })();\n",
              "  </script>\n",
              "</div>\n",
              "\n",
              "    </div>\n",
              "  </div>\n"
            ],
            "application/vnd.google.colaboratory.intrinsic+json": {
              "type": "dataframe",
              "variable_name": "data",
              "summary": "{\n  \"name\": \"data\",\n  \"rows\": 100,\n  \"fields\": [\n    {\n      \"column\": \"date\",\n      \"properties\": {\n        \"dtype\": \"object\",\n        \"num_unique_values\": 100,\n        \"samples\": [\n          \"2020-12-31\",\n          \"2013-06-30\",\n          \"2017-09-30\"\n        ],\n        \"semantic_type\": \"\",\n        \"description\": \"\"\n      }\n    },\n    {\n      \"column\": \"GDP_growth\",\n      \"properties\": {\n        \"dtype\": \"number\",\n        \"std\": 2.0658962133994643,\n        \"min\": -1.9475682194234651,\n        \"max\": 4.91434251815577,\n        \"num_unique_values\": 100,\n        \"samples\": [\n          2.425107615361439,\n          -0.264889446127253,\n          2.079990934374602\n        ],\n        \"semantic_type\": \"\",\n        \"description\": \"\"\n      }\n    },\n    {\n      \"column\": \"unemployment_rate\",\n      \"properties\": {\n        \"dtype\": \"number\",\n        \"std\": 2.151308332824808,\n        \"min\": 3.1322653233757283,\n        \"max\": 9.903430247680332,\n        \"num_unique_values\": 100,\n        \"samples\": [\n          3.1505447344699844,\n          5.038113615202738,\n          9.502166722640617\n        ],\n        \"semantic_type\": \"\",\n        \"description\": \"\"\n      }\n    },\n    {\n      \"column\": \"inflation_rate\",\n      \"properties\": {\n        \"dtype\": \"number\",\n        \"std\": 1.402203385698887,\n        \"min\": 0.0312137621069313,\n        \"max\": 4.959456701150335,\n        \"num_unique_values\": 100,\n        \"samples\": [\n          2.71833259793267,\n          1.8216286404476385,\n          4.417081321614315\n        ],\n        \"semantic_type\": \"\",\n        \"description\": \"\"\n      }\n    }\n  ]\n}"
            }
          },
          "metadata": {},
          "execution_count": 3
        }
      ],
      "source": [
        "data = pd.read_csv('/content/economic_data.csv')  # Make sure the path matches your file's name\n",
        "data.head()\n"
      ]
    },
    {
      "cell_type": "markdown",
      "source": [
        "**Explanation:**\n",
        "\n",
        "Reads the CSV file and shows the first few rows to confirm the data has been loaded correctly.\n"
      ],
      "metadata": {
        "id": "PIwB-ovmoFSj"
      }
    },
    {
      "cell_type": "markdown",
      "source": [
        "# **STEP 3: Data Exploration and Preprocessing**\n",
        "\n"
      ],
      "metadata": {
        "id": "obGdzZXUomi_"
      }
    },
    {
      "cell_type": "markdown",
      "source": [
        "### **3.1 Explore the Dataset**"
      ],
      "metadata": {
        "id": "hqfJIk0HuMVq"
      }
    },
    {
      "cell_type": "code",
      "source": [
        "data.info()\n"
      ],
      "metadata": {
        "colab": {
          "base_uri": "https://localhost:8080/"
        },
        "id": "oMF13xIUo49-",
        "outputId": "2858d3aa-6326-4f12-ab59-0ad28514d132"
      },
      "execution_count": null,
      "outputs": [
        {
          "output_type": "stream",
          "name": "stdout",
          "text": [
            "<class 'pandas.core.frame.DataFrame'>\n",
            "RangeIndex: 100 entries, 0 to 99\n",
            "Data columns (total 4 columns):\n",
            " #   Column             Non-Null Count  Dtype  \n",
            "---  ------             --------------  -----  \n",
            " 0   date               100 non-null    object \n",
            " 1   GDP_growth         100 non-null    float64\n",
            " 2   unemployment_rate  100 non-null    float64\n",
            " 3   inflation_rate     100 non-null    float64\n",
            "dtypes: float64(3), object(1)\n",
            "memory usage: 3.2+ KB\n"
          ]
        }
      ]
    },
    {
      "cell_type": "markdown",
      "source": [
        "**Explanation:**\n",
        "\n",
        "Shows the data types and if there are any missing values."
      ],
      "metadata": {
        "id": "PbZtLbfAo-Xl"
      }
    },
    {
      "cell_type": "code",
      "source": [
        "data.describe()"
      ],
      "metadata": {
        "colab": {
          "base_uri": "https://localhost:8080/",
          "height": 300
        },
        "id": "O48qn4sYqY2W",
        "outputId": "c8a526c1-0d21-44af-b69b-4a6c89b962f6"
      },
      "execution_count": null,
      "outputs": [
        {
          "output_type": "execute_result",
          "data": {
            "text/plain": [
              "       GDP_growth  unemployment_rate  inflation_rate\n",
              "count  100.000000         100.000000      100.000000\n",
              "mean     1.541926           6.540095        2.719600\n",
              "std      2.065896           2.151308        1.402203\n",
              "min     -1.947568           3.132265        0.031214\n",
              "25%     -0.174888           4.602727        1.555644\n",
              "50%      1.372377           6.722063        2.730950\n",
              "75%      3.201292           8.801613        3.823869\n",
              "max      4.914343           9.903430        4.959457"
            ],
            "text/html": [
              "\n",
              "  <div id=\"df-e94f1725-39c8-4cb0-bc12-8d52d3318606\" class=\"colab-df-container\">\n",
              "    <div>\n",
              "<style scoped>\n",
              "    .dataframe tbody tr th:only-of-type {\n",
              "        vertical-align: middle;\n",
              "    }\n",
              "\n",
              "    .dataframe tbody tr th {\n",
              "        vertical-align: top;\n",
              "    }\n",
              "\n",
              "    .dataframe thead th {\n",
              "        text-align: right;\n",
              "    }\n",
              "</style>\n",
              "<table border=\"1\" class=\"dataframe\">\n",
              "  <thead>\n",
              "    <tr style=\"text-align: right;\">\n",
              "      <th></th>\n",
              "      <th>GDP_growth</th>\n",
              "      <th>unemployment_rate</th>\n",
              "      <th>inflation_rate</th>\n",
              "    </tr>\n",
              "  </thead>\n",
              "  <tbody>\n",
              "    <tr>\n",
              "      <th>count</th>\n",
              "      <td>100.000000</td>\n",
              "      <td>100.000000</td>\n",
              "      <td>100.000000</td>\n",
              "    </tr>\n",
              "    <tr>\n",
              "      <th>mean</th>\n",
              "      <td>1.541926</td>\n",
              "      <td>6.540095</td>\n",
              "      <td>2.719600</td>\n",
              "    </tr>\n",
              "    <tr>\n",
              "      <th>std</th>\n",
              "      <td>2.065896</td>\n",
              "      <td>2.151308</td>\n",
              "      <td>1.402203</td>\n",
              "    </tr>\n",
              "    <tr>\n",
              "      <th>min</th>\n",
              "      <td>-1.947568</td>\n",
              "      <td>3.132265</td>\n",
              "      <td>0.031214</td>\n",
              "    </tr>\n",
              "    <tr>\n",
              "      <th>25%</th>\n",
              "      <td>-0.174888</td>\n",
              "      <td>4.602727</td>\n",
              "      <td>1.555644</td>\n",
              "    </tr>\n",
              "    <tr>\n",
              "      <th>50%</th>\n",
              "      <td>1.372377</td>\n",
              "      <td>6.722063</td>\n",
              "      <td>2.730950</td>\n",
              "    </tr>\n",
              "    <tr>\n",
              "      <th>75%</th>\n",
              "      <td>3.201292</td>\n",
              "      <td>8.801613</td>\n",
              "      <td>3.823869</td>\n",
              "    </tr>\n",
              "    <tr>\n",
              "      <th>max</th>\n",
              "      <td>4.914343</td>\n",
              "      <td>9.903430</td>\n",
              "      <td>4.959457</td>\n",
              "    </tr>\n",
              "  </tbody>\n",
              "</table>\n",
              "</div>\n",
              "    <div class=\"colab-df-buttons\">\n",
              "\n",
              "  <div class=\"colab-df-container\">\n",
              "    <button class=\"colab-df-convert\" onclick=\"convertToInteractive('df-e94f1725-39c8-4cb0-bc12-8d52d3318606')\"\n",
              "            title=\"Convert this dataframe to an interactive table.\"\n",
              "            style=\"display:none;\">\n",
              "\n",
              "  <svg xmlns=\"http://www.w3.org/2000/svg\" height=\"24px\" viewBox=\"0 -960 960 960\">\n",
              "    <path d=\"M120-120v-720h720v720H120Zm60-500h600v-160H180v160Zm220 220h160v-160H400v160Zm0 220h160v-160H400v160ZM180-400h160v-160H180v160Zm440 0h160v-160H620v160ZM180-180h160v-160H180v160Zm440 0h160v-160H620v160Z\"/>\n",
              "  </svg>\n",
              "    </button>\n",
              "\n",
              "  <style>\n",
              "    .colab-df-container {\n",
              "      display:flex;\n",
              "      gap: 12px;\n",
              "    }\n",
              "\n",
              "    .colab-df-convert {\n",
              "      background-color: #E8F0FE;\n",
              "      border: none;\n",
              "      border-radius: 50%;\n",
              "      cursor: pointer;\n",
              "      display: none;\n",
              "      fill: #1967D2;\n",
              "      height: 32px;\n",
              "      padding: 0 0 0 0;\n",
              "      width: 32px;\n",
              "    }\n",
              "\n",
              "    .colab-df-convert:hover {\n",
              "      background-color: #E2EBFA;\n",
              "      box-shadow: 0px 1px 2px rgba(60, 64, 67, 0.3), 0px 1px 3px 1px rgba(60, 64, 67, 0.15);\n",
              "      fill: #174EA6;\n",
              "    }\n",
              "\n",
              "    .colab-df-buttons div {\n",
              "      margin-bottom: 4px;\n",
              "    }\n",
              "\n",
              "    [theme=dark] .colab-df-convert {\n",
              "      background-color: #3B4455;\n",
              "      fill: #D2E3FC;\n",
              "    }\n",
              "\n",
              "    [theme=dark] .colab-df-convert:hover {\n",
              "      background-color: #434B5C;\n",
              "      box-shadow: 0px 1px 3px 1px rgba(0, 0, 0, 0.15);\n",
              "      filter: drop-shadow(0px 1px 2px rgba(0, 0, 0, 0.3));\n",
              "      fill: #FFFFFF;\n",
              "    }\n",
              "  </style>\n",
              "\n",
              "    <script>\n",
              "      const buttonEl =\n",
              "        document.querySelector('#df-e94f1725-39c8-4cb0-bc12-8d52d3318606 button.colab-df-convert');\n",
              "      buttonEl.style.display =\n",
              "        google.colab.kernel.accessAllowed ? 'block' : 'none';\n",
              "\n",
              "      async function convertToInteractive(key) {\n",
              "        const element = document.querySelector('#df-e94f1725-39c8-4cb0-bc12-8d52d3318606');\n",
              "        const dataTable =\n",
              "          await google.colab.kernel.invokeFunction('convertToInteractive',\n",
              "                                                    [key], {});\n",
              "        if (!dataTable) return;\n",
              "\n",
              "        const docLinkHtml = 'Like what you see? Visit the ' +\n",
              "          '<a target=\"_blank\" href=https://colab.research.google.com/notebooks/data_table.ipynb>data table notebook</a>'\n",
              "          + ' to learn more about interactive tables.';\n",
              "        element.innerHTML = '';\n",
              "        dataTable['output_type'] = 'display_data';\n",
              "        await google.colab.output.renderOutput(dataTable, element);\n",
              "        const docLink = document.createElement('div');\n",
              "        docLink.innerHTML = docLinkHtml;\n",
              "        element.appendChild(docLink);\n",
              "      }\n",
              "    </script>\n",
              "  </div>\n",
              "\n",
              "\n",
              "<div id=\"df-17c3d62a-1068-4587-82a3-df5feec0ba4b\">\n",
              "  <button class=\"colab-df-quickchart\" onclick=\"quickchart('df-17c3d62a-1068-4587-82a3-df5feec0ba4b')\"\n",
              "            title=\"Suggest charts\"\n",
              "            style=\"display:none;\">\n",
              "\n",
              "<svg xmlns=\"http://www.w3.org/2000/svg\" height=\"24px\"viewBox=\"0 0 24 24\"\n",
              "     width=\"24px\">\n",
              "    <g>\n",
              "        <path d=\"M19 3H5c-1.1 0-2 .9-2 2v14c0 1.1.9 2 2 2h14c1.1 0 2-.9 2-2V5c0-1.1-.9-2-2-2zM9 17H7v-7h2v7zm4 0h-2V7h2v10zm4 0h-2v-4h2v4z\"/>\n",
              "    </g>\n",
              "</svg>\n",
              "  </button>\n",
              "\n",
              "<style>\n",
              "  .colab-df-quickchart {\n",
              "      --bg-color: #E8F0FE;\n",
              "      --fill-color: #1967D2;\n",
              "      --hover-bg-color: #E2EBFA;\n",
              "      --hover-fill-color: #174EA6;\n",
              "      --disabled-fill-color: #AAA;\n",
              "      --disabled-bg-color: #DDD;\n",
              "  }\n",
              "\n",
              "  [theme=dark] .colab-df-quickchart {\n",
              "      --bg-color: #3B4455;\n",
              "      --fill-color: #D2E3FC;\n",
              "      --hover-bg-color: #434B5C;\n",
              "      --hover-fill-color: #FFFFFF;\n",
              "      --disabled-bg-color: #3B4455;\n",
              "      --disabled-fill-color: #666;\n",
              "  }\n",
              "\n",
              "  .colab-df-quickchart {\n",
              "    background-color: var(--bg-color);\n",
              "    border: none;\n",
              "    border-radius: 50%;\n",
              "    cursor: pointer;\n",
              "    display: none;\n",
              "    fill: var(--fill-color);\n",
              "    height: 32px;\n",
              "    padding: 0;\n",
              "    width: 32px;\n",
              "  }\n",
              "\n",
              "  .colab-df-quickchart:hover {\n",
              "    background-color: var(--hover-bg-color);\n",
              "    box-shadow: 0 1px 2px rgba(60, 64, 67, 0.3), 0 1px 3px 1px rgba(60, 64, 67, 0.15);\n",
              "    fill: var(--button-hover-fill-color);\n",
              "  }\n",
              "\n",
              "  .colab-df-quickchart-complete:disabled,\n",
              "  .colab-df-quickchart-complete:disabled:hover {\n",
              "    background-color: var(--disabled-bg-color);\n",
              "    fill: var(--disabled-fill-color);\n",
              "    box-shadow: none;\n",
              "  }\n",
              "\n",
              "  .colab-df-spinner {\n",
              "    border: 2px solid var(--fill-color);\n",
              "    border-color: transparent;\n",
              "    border-bottom-color: var(--fill-color);\n",
              "    animation:\n",
              "      spin 1s steps(1) infinite;\n",
              "  }\n",
              "\n",
              "  @keyframes spin {\n",
              "    0% {\n",
              "      border-color: transparent;\n",
              "      border-bottom-color: var(--fill-color);\n",
              "      border-left-color: var(--fill-color);\n",
              "    }\n",
              "    20% {\n",
              "      border-color: transparent;\n",
              "      border-left-color: var(--fill-color);\n",
              "      border-top-color: var(--fill-color);\n",
              "    }\n",
              "    30% {\n",
              "      border-color: transparent;\n",
              "      border-left-color: var(--fill-color);\n",
              "      border-top-color: var(--fill-color);\n",
              "      border-right-color: var(--fill-color);\n",
              "    }\n",
              "    40% {\n",
              "      border-color: transparent;\n",
              "      border-right-color: var(--fill-color);\n",
              "      border-top-color: var(--fill-color);\n",
              "    }\n",
              "    60% {\n",
              "      border-color: transparent;\n",
              "      border-right-color: var(--fill-color);\n",
              "    }\n",
              "    80% {\n",
              "      border-color: transparent;\n",
              "      border-right-color: var(--fill-color);\n",
              "      border-bottom-color: var(--fill-color);\n",
              "    }\n",
              "    90% {\n",
              "      border-color: transparent;\n",
              "      border-bottom-color: var(--fill-color);\n",
              "    }\n",
              "  }\n",
              "</style>\n",
              "\n",
              "  <script>\n",
              "    async function quickchart(key) {\n",
              "      const quickchartButtonEl =\n",
              "        document.querySelector('#' + key + ' button');\n",
              "      quickchartButtonEl.disabled = true;  // To prevent multiple clicks.\n",
              "      quickchartButtonEl.classList.add('colab-df-spinner');\n",
              "      try {\n",
              "        const charts = await google.colab.kernel.invokeFunction(\n",
              "            'suggestCharts', [key], {});\n",
              "      } catch (error) {\n",
              "        console.error('Error during call to suggestCharts:', error);\n",
              "      }\n",
              "      quickchartButtonEl.classList.remove('colab-df-spinner');\n",
              "      quickchartButtonEl.classList.add('colab-df-quickchart-complete');\n",
              "    }\n",
              "    (() => {\n",
              "      let quickchartButtonEl =\n",
              "        document.querySelector('#df-17c3d62a-1068-4587-82a3-df5feec0ba4b button');\n",
              "      quickchartButtonEl.style.display =\n",
              "        google.colab.kernel.accessAllowed ? 'block' : 'none';\n",
              "    })();\n",
              "  </script>\n",
              "</div>\n",
              "\n",
              "    </div>\n",
              "  </div>\n"
            ],
            "application/vnd.google.colaboratory.intrinsic+json": {
              "type": "dataframe",
              "summary": "{\n  \"name\": \"data\",\n  \"rows\": 8,\n  \"fields\": [\n    {\n      \"column\": \"GDP_growth\",\n      \"properties\": {\n        \"dtype\": \"number\",\n        \"std\": 34.86169658203475,\n        \"min\": -1.9475682194234651,\n        \"max\": 100.0,\n        \"num_unique_values\": 8,\n        \"samples\": [\n          1.5419258887973486,\n          1.372376876280982,\n          100.0\n        ],\n        \"semantic_type\": \"\",\n        \"description\": \"\"\n      }\n    },\n    {\n      \"column\": \"unemployment_rate\",\n      \"properties\": {\n        \"dtype\": \"number\",\n        \"std\": 33.346294721664066,\n        \"min\": 2.151308332824808,\n        \"max\": 100.0,\n        \"num_unique_values\": 8,\n        \"samples\": [\n          6.540094925557217,\n          6.722062889345451,\n          100.0\n        ],\n        \"semantic_type\": \"\",\n        \"description\": \"\"\n      }\n    },\n    {\n      \"column\": \"inflation_rate\",\n      \"properties\": {\n        \"dtype\": \"number\",\n        \"std\": 34.51874766699482,\n        \"min\": 0.0312137621069313,\n        \"max\": 100.0,\n        \"num_unique_values\": 8,\n        \"samples\": [\n          2.719599926492306,\n          2.7309495228550977,\n          100.0\n        ],\n        \"semantic_type\": \"\",\n        \"description\": \"\"\n      }\n    }\n  ]\n}"
            }
          },
          "metadata": {},
          "execution_count": 5
        }
      ]
    },
    {
      "cell_type": "markdown",
      "source": [
        "**Explanation:**\n",
        "\n",
        "To see basic statistics."
      ],
      "metadata": {
        "id": "m1AtcA7qqbxF"
      }
    },
    {
      "cell_type": "markdown",
      "source": [
        "### **3.2 Data Cleaning**\n",
        "\n"
      ],
      "metadata": {
        "id": "WpyhkLyVr6w1"
      }
    },
    {
      "cell_type": "code",
      "source": [
        "# Check the initial number of rows\n",
        "initial_rows = data.shape[0]\n",
        "\n",
        "# Drop rows with missing values\n",
        "data = data.dropna()\n",
        "\n",
        "# Check the number of rows after dropping missing values\n",
        "final_rows = data.shape[0]\n",
        "\n",
        "# Print a summary message\n",
        "print(f'Data cleaning completed. {initial_rows - final_rows} rows with missing values were removed. Total rows remaining: {final_rows}.')\n"
      ],
      "metadata": {
        "id": "dnvVt_G6qrK1",
        "colab": {
          "base_uri": "https://localhost:8080/"
        },
        "outputId": "3f277f03-4146-441c-aec3-7cc06e94531c"
      },
      "execution_count": null,
      "outputs": [
        {
          "output_type": "stream",
          "name": "stdout",
          "text": [
            "Data cleaning completed. 1 rows with missing values were removed. Total rows remaining: 99.\n"
          ]
        }
      ]
    },
    {
      "cell_type": "markdown",
      "source": [
        "**Explanation:**\n",
        "\n",
        "Removes any rows where there are missing values.\n",
        "\n",
        "initial_rows: Captures the number of rows before removing any missing values.\n",
        "\n",
        "final_rows: Captures the number of rows after dropping missing values.\n",
        "\n",
        "The print statement provides a clear message indicating:\n",
        "\n",
        "The number of rows removed.\n",
        "\n",
        "The total number of rows remaining in the dataset after cleaning."
      ],
      "metadata": {
        "id": "-Mfyio1yr9qg"
      }
    },
    {
      "cell_type": "markdown",
      "source": [
        "### **3.3 Feature Selection**\n",
        "\n",
        "Identify the columns (features) that you’ll use for prediction.\n",
        "\n",
        "For example, we might want to predict GDP growth (GDP_growth) using the unemployment rate (unemployment_rate) and inflation rate (inflation_rate):"
      ],
      "metadata": {
        "id": "T5_Gs5cPsZnI"
      }
    },
    {
      "cell_type": "code",
      "source": [
        "# Define the features and target variable\n",
        "features = ['unemployment_rate', 'inflation_rate']\n",
        "target = 'GDP_growth'\n",
        "\n",
        "# Create the feature set (X) and target (y)\n",
        "X = data[features]\n",
        "y = data[target]\n",
        "\n",
        "# Print a summary message\n",
        "print(f'Feature selection completed. Selected features: {features}.')\n",
        "print(f'Feature set shape: {X.shape}. Target variable shape: {y.shape}.')\n",
        "\n"
      ],
      "metadata": {
        "id": "F4NdYWSNsgev",
        "colab": {
          "base_uri": "https://localhost:8080/"
        },
        "outputId": "8a8cf607-2125-4373-cb6a-e7b16b337ad2"
      },
      "execution_count": null,
      "outputs": [
        {
          "output_type": "stream",
          "name": "stdout",
          "text": [
            "Feature selection completed. Selected features: ['unemployment_rate', 'inflation_rate'].\n",
            "Feature set shape: (99, 2). Target variable shape: (99,).\n"
          ]
        }
      ]
    },
    {
      "cell_type": "markdown",
      "source": [
        "**Explanation:**\n",
        "\n",
        "features: Lists the selected columns used for prediction.\n",
        "\n",
        "X = data[features]: Creates a new DataFrame containing only the selected feature columns. X is the input features (what we use to predict).\n",
        "\n",
        "y = data[target]: Defines the target variable. (what we want to predict).\n",
        "\n",
        "The **print** statements provide:\n",
        "\n",
        "Confirmation of the selected features.\n",
        "\n",
        "The shape of the feature set (X.shape), indicating how many rows and columns are now included.\n",
        "\n",
        "The shape of the target variable (y.shape), showing how many rows it contains."
      ],
      "metadata": {
        "id": "VDjXwiCRshxn"
      }
    },
    {
      "cell_type": "markdown",
      "source": [
        "# **Step 4: Building the Supervised Learning Model**"
      ],
      "metadata": {
        "id": "DcbSzhcgoHbi"
      }
    },
    {
      "cell_type": "markdown",
      "source": [
        "### **4.1 Splitting the Dataset**"
      ],
      "metadata": {
        "id": "MJZeULz-vF6H"
      }
    },
    {
      "cell_type": "markdown",
      "source": [
        "Split the data into training and testing sets"
      ],
      "metadata": {
        "id": "fYrJeVqh0b5H"
      }
    },
    {
      "cell_type": "code",
      "source": [
        "from sklearn.model_selection import train_test_split\n",
        "\n",
        "# Split the dataset into training and testing sets\n",
        "X_train, X_test, y_train, y_test = train_test_split(X, y, test_size=0.2, random_state=42)\n",
        "\n",
        "# Print a summary message\n",
        "print(f'Dataset splitting completed.')\n",
        "print(f'Training set shape: X_train: {X_train.shape}, y_train: {y_train.shape}')\n",
        "print(f'Testing set shape: X_test: {X_test.shape}, y_test: {y_test.shape}')\n",
        "\n"
      ],
      "metadata": {
        "id": "a2m5BGjmvPpg",
        "colab": {
          "base_uri": "https://localhost:8080/"
        },
        "outputId": "fb3922cf-1a22-4f6b-ca16-06a60be52886"
      },
      "execution_count": null,
      "outputs": [
        {
          "output_type": "stream",
          "name": "stdout",
          "text": [
            "Dataset splitting completed.\n",
            "Training set shape: X_train: (79, 2), y_train: (79,)\n",
            "Testing set shape: X_test: (20, 2), y_test: (20,)\n"
          ]
        }
      ]
    },
    {
      "cell_type": "markdown",
      "source": [
        "**Explanation:**\n",
        "\n",
        "X_train and y_train: Data used to train the model (80% of the dataset).\n",
        "\n",
        "X_test and y_test: Data used to test the model (20% of the dataset).\n",
        "\n",
        "train_test_split(X, y, test_size=0.2, random_state=42): Splits the dataset into training (80%) and testing (20%) sets.\n",
        "\n",
        "X_train, y_train: Feature and target variables for the training set.\n",
        "\n",
        "X_test, y_test: Feature and target variables for the testing set.\n",
        "\n",
        "The **print** statements provide:\n",
        "\n",
        "Confirmation that the dataset has been split successfully.\n",
        "\n",
        "The shapes of the training and testing sets, showing how many rows (samples) and columns (features) are included in each part."
      ],
      "metadata": {
        "id": "CJ9ZP2e3vThc"
      }
    },
    {
      "cell_type": "markdown",
      "source": [
        "### **4.2 Training the Model**"
      ],
      "metadata": {
        "id": "UGmCLhN8vk9z"
      }
    },
    {
      "cell_type": "markdown",
      "source": [
        "Create an instance of the Linear Regression model and train it using the training data."
      ],
      "metadata": {
        "id": "bSQQrGcb0VVH"
      }
    },
    {
      "cell_type": "code",
      "source": [
        "from sklearn.linear_model import LinearRegression\n",
        "\n",
        "# Initialize the Linear Regression model\n",
        "model = LinearRegression()\n",
        "\n",
        "# Train the model using the training data\n",
        "model.fit(X_train, y_train)\n",
        "\n",
        "# Print a summary message\n",
        "print('Model training completed successfully.')\n",
        "print(f'Coefficients: {model.coef_}')\n",
        "print(f'Intercept: {model.intercept_}')\n",
        "\n"
      ],
      "metadata": {
        "colab": {
          "base_uri": "https://localhost:8080/"
        },
        "id": "6rv0smGpvwIW",
        "outputId": "4008dc8d-6521-4637-9a05-afb76c71f0c9"
      },
      "execution_count": null,
      "outputs": [
        {
          "output_type": "stream",
          "name": "stdout",
          "text": [
            "Model training completed successfully.\n",
            "Coefficients: [0.21253835 0.20792523]\n",
            "Intercept: -0.5159828735511673\n"
          ]
        }
      ]
    },
    {
      "cell_type": "markdown",
      "source": [
        "**Explanation:**\n",
        "\n",
        "model.fit(X_train, y_train): Trains the model using the training data (X_train and y_train).\n",
        "\n",
        "The **print** statements provide:\n",
        "\n",
        "Confirmation that the model has been trained.\n",
        "\n",
        "The coefficients (model.coef_) indicate the relationship between each feature and the target variable.\n",
        "\n",
        "The intercept (model.intercept_) is the point where the regression line crosses the y-axis when all feature values are zero."
      ],
      "metadata": {
        "id": "T4rqkbAOv2yS"
      }
    },
    {
      "cell_type": "markdown",
      "source": [
        "### **4.3 Making Predictions**"
      ],
      "metadata": {
        "id": "yT1_U6gawEVI"
      }
    },
    {
      "cell_type": "markdown",
      "source": [
        "Using the model to make predictions on the test data."
      ],
      "metadata": {
        "id": "oLShEKyM0Q_l"
      }
    },
    {
      "cell_type": "code",
      "source": [
        "# Make predictions on the test set\n",
        "predictions = model.predict(X_test)\n",
        "\n",
        "# Print a summary message\n",
        "print('Predictions completed.')\n",
        "print('First 5 predictions:', predictions[:5])\n",
        "print('First 5 actual values:', y_test.values[:5])\n",
        "\n"
      ],
      "metadata": {
        "id": "5pP3QOQ8wR_M",
        "colab": {
          "base_uri": "https://localhost:8080/"
        },
        "outputId": "da97aa35-5d4e-42e3-b0ca-128c42e9f691"
      },
      "execution_count": null,
      "outputs": [
        {
          "output_type": "stream",
          "name": "stdout",
          "text": [
            "Predictions completed.\n",
            "First 5 predictions: [1.56074431 1.32262418 1.39351364 2.19103245 1.62202846]\n",
            "First 5 actual values: [3.33203768 0.84193807 2.17565554 2.6351645  1.72402965]\n"
          ]
        }
      ]
    },
    {
      "cell_type": "markdown",
      "source": [
        "**Explanation:**\n",
        "\n",
        "This code predicts GDP growth using the test set and stores the predictions in the variable predictions.\n",
        "\n",
        "model.predict(X_test): Uses the trained model to predict the target values based on the features in the test set (X_test).\n",
        "\n",
        "The **print** statements provide:\n",
        "\n",
        "Confirmation that the prediction process has been completed.\n",
        "The first 5 predicted values (predictions[:5]) to show a sample of the output from the model.\n",
        "\n",
        "The first 5 actual values from y_test to compare with the predicted values, helping to visualize how close the predictions are to the actual values."
      ],
      "metadata": {
        "id": "45BkjIOlwWzG"
      }
    },
    {
      "cell_type": "markdown",
      "source": [
        "# **Step 5: Evaluating the Model**"
      ],
      "metadata": {
        "id": "TQeE6ZwHwnsP"
      }
    },
    {
      "cell_type": "markdown",
      "source": [
        "### **5.1 Calculate Performance Metrics**"
      ],
      "metadata": {
        "id": "nLo8EiasynW9"
      }
    },
    {
      "cell_type": "markdown",
      "source": [
        "Measure how well the model performs using R-squared and Mean Squared Error (MSE)"
      ],
      "metadata": {
        "id": "dczDkGcE0IVW"
      }
    },
    {
      "cell_type": "code",
      "source": [
        "r2 = r2_score(y_test, predictions)\n",
        "mse = mean_squared_error(y_test, predictions)\n",
        "print(f'R-squared: {r2}')\n",
        "print(f'Mean Squared Error: {mse}')\n"
      ],
      "metadata": {
        "colab": {
          "base_uri": "https://localhost:8080/"
        },
        "id": "6v-Ny6GywyGc",
        "outputId": "af88838d-d99f-4cf0-c28a-a377bb6398dc"
      },
      "execution_count": null,
      "outputs": [
        {
          "output_type": "stream",
          "name": "stdout",
          "text": [
            "R-squared: -0.27370876212730977\n",
            "Mean Squared Error: 3.896570724306206\n"
          ]
        }
      ]
    },
    {
      "cell_type": "markdown",
      "source": [
        "**Explanation:**\n",
        "\n",
        "R-squared tells us how much of the variation in GDP growth the model explains. The closer it is to 1, the better.\n",
        "\n",
        "MSE measures the average squared differences between predicted and actual values. A lower value indicates a better model."
      ],
      "metadata": {
        "id": "-98DkSI9yafy"
      }
    },
    {
      "cell_type": "markdown",
      "source": [
        "### **5.2 Interpreting the Results**"
      ],
      "metadata": {
        "id": "qeSZYFE-y6ZN"
      }
    },
    {
      "cell_type": "markdown",
      "source": [
        "Look at the values of R-squared and MSE. Discuss with your peers whether these values indicate a good or poor model performance."
      ],
      "metadata": {
        "id": "280Joc-SwP_s"
      }
    },
    {
      "cell_type": "markdown",
      "source": [
        "# **Step 6: Improving the Model**"
      ],
      "metadata": {
        "id": "e5nyZsrezF1g"
      }
    },
    {
      "cell_type": "markdown",
      "source": [
        "### **6.1 Feature Engineering**"
      ],
      "metadata": {
        "id": "sJRcaYCDzM0G"
      }
    },
    {
      "cell_type": "markdown",
      "source": [
        "Add new features that may improve the model’s performance. For example, you might add lag values of the unemployment rate to capture trends."
      ],
      "metadata": {
        "id": "tYJKfrNW0CmG"
      }
    },
    {
      "cell_type": "code",
      "source": [
        "# Add a new feature: Lagged value of the unemployment rate\n",
        "data['unemployment_rate_lag1'] = data['unemployment_rate'].shift(1)\n",
        "\n",
        "# Drop any rows with missing values after creating the lagged feature\n",
        "data = data.dropna()\n",
        "\n",
        "# Update the feature set (X) to include the new feature\n",
        "X = data[['unemployment_rate', 'inflation_rate', 'unemployment_rate_lag1']]\n",
        "\n",
        "# Print a summary message\n",
        "print('Feature engineering completed. New feature \"unemployment_rate_lag1\" added.')\n",
        "print(f'Updated feature set shape: {X.shape}')\n",
        "print('Preview of the modified dataset:')\n",
        "print(X.head())\n",
        "\n"
      ],
      "metadata": {
        "id": "Mq2I7ETezxvf",
        "colab": {
          "base_uri": "https://localhost:8080/"
        },
        "outputId": "9836be56-0787-48a4-bf49-8e3e6cac0c76"
      },
      "execution_count": null,
      "outputs": [
        {
          "output_type": "stream",
          "name": "stdout",
          "text": [
            "Feature engineering completed. New feature \"unemployment_rate_lag1\" added.\n",
            "Updated feature set shape: (98, 3)\n",
            "Preview of the modified dataset:\n",
            "   unemployment_rate  inflation_rate  unemployment_rate_lag1\n",
            "2           4.972832        2.771238                4.909326\n",
            "3           7.710629        3.457831                4.972832\n",
            "4           5.264270        4.618121                7.710629\n",
            "5           4.579184        1.168043                5.264270\n",
            "6           5.341990        2.608220                4.579184\n"
          ]
        }
      ]
    },
    {
      "cell_type": "markdown",
      "source": [
        "**Explanation:**\n",
        "\n",
        "This code adds a new feature, the lagged unemployment rate, which may provide additional insight.\n",
        "\n",
        "data['unemployment_rate_lag1'] = data['unemployment_rate'].shift(1): Creates a new feature that is the lagged unemployment rate (value from the previous period).\n",
        "\n",
        "data.dropna(): Ensures that any rows with missing values after creating the lagged feature are removed.\n",
        "\n",
        "X is updated to include the new feature, unemployment_rate_lag1, along with the other existing features.\n",
        "\n",
        "The **print** statements provide:\n",
        "\n",
        "Confirmation that the new feature has been added.\n",
        "\n",
        "The shape of the updated feature set (X.shape) to show how many features and rows are included.\n",
        "\n",
        "A preview of the first few rows of the modified dataset to visualize the changes."
      ],
      "metadata": {
        "id": "zKavCWybzy04"
      }
    },
    {
      "cell_type": "markdown",
      "source": [
        "### **6.2 Applying Regularization (Ridge Regression)**"
      ],
      "metadata": {
        "id": "L-XWBvSLzbnf"
      }
    },
    {
      "cell_type": "markdown",
      "source": [
        "Use Ridge regression to see if it improves the model by preventing overfitting."
      ],
      "metadata": {
        "id": "DVvMo9oV0uDb"
      }
    },
    {
      "cell_type": "code",
      "source": [
        "from sklearn.linear_model import Ridge\n",
        "\n",
        "# Create an instance of the Ridge Regression model\n",
        "ridge_model = Ridge(alpha=1.0)\n",
        "\n",
        "# Train (fit) the Ridge model on the training data\n",
        "ridge_model.fit(X_train, y_train)\n",
        "\n",
        "# Print a summary message\n",
        "print('Ridge Regression model training completed with alpha = 1.0.')\n",
        "print(f'Ridge Coefficients: {ridge_model.coef_}')\n",
        "print(f'Ridge Intercept: {ridge_model.intercept_}')\n",
        "\n"
      ],
      "metadata": {
        "id": "ewMc_cHV0vYe",
        "colab": {
          "base_uri": "https://localhost:8080/"
        },
        "outputId": "b753f55e-5a63-4a98-c076-dc6c6cdebe84"
      },
      "execution_count": null,
      "outputs": [
        {
          "output_type": "stream",
          "name": "stdout",
          "text": [
            "Ridge Regression model training completed with alpha = 1.0.\n",
            "Ridge Coefficients: [0.21214162 0.20661522]\n",
            "Ridge Intercept: -0.5097136869017953\n"
          ]
        }
      ]
    },
    {
      "cell_type": "markdown",
      "source": [
        "**Explanation:**\n",
        "\n",
        "Ridge regression includes a penalty to prevent the model from becoming too complex.\n",
        "\n",
        "Ridge(alpha=1.0): Creates a Ridge Regression model with a regularization strength (alpha) set to 1.0. We can adjust this value to see how different levels of regularization affect the model.\n",
        "\n",
        "ridge_model.fit(X_train, y_train): Trains the Ridge Regression model using the training data.\n",
        "\n",
        "The **print** statements provide:\n",
        "\n",
        "Confirmation that the Ridge model has been trained with the specified alpha value.\n",
        "\n",
        "The coefficients (ridge_model.coef_) showing the impact of each feature after regularization.\n",
        "\n",
        "The intercept (ridge_model.intercept_) of the Ridge model."
      ],
      "metadata": {
        "id": "eo48qdt-0x4Q"
      }
    },
    {
      "cell_type": "markdown",
      "source": [
        "### **6.3 Cross-Validation**"
      ],
      "metadata": {
        "id": "bQHZKzSPzpEU"
      }
    },
    {
      "cell_type": "markdown",
      "source": [
        "Use cross-validation to validate the model’s robustness."
      ],
      "metadata": {
        "id": "dEmv5mdC09Ot"
      }
    },
    {
      "cell_type": "code",
      "source": [
        "from sklearn.model_selection import cross_val_score\n",
        "from sklearn.linear_model import LinearRegression\n",
        "import pandas as pd\n",
        "\n",
        "# Make sure X and y are properly set up with no missing values and are numeric\n",
        "X = data[['unemployment_rate', 'inflation_rate']].dropna()\n",
        "y = data['GDP_growth'].dropna()\n",
        "\n",
        "# Initialize the model\n",
        "model = LinearRegression()\n",
        "\n",
        "# Apply cross-validation\n",
        "scores = cross_val_score(model, X, y, cv=5)\n",
        "print(f'Cross-validation scores: {scores}')\n",
        "print(f'Average Cross-validation score: {scores.mean()}')\n",
        "\n",
        "\n"
      ],
      "metadata": {
        "colab": {
          "base_uri": "https://localhost:8080/"
        },
        "id": "witkKi0p0-vQ",
        "outputId": "66d80baf-a43f-438f-88bd-d3c32cbcc9dd"
      },
      "execution_count": null,
      "outputs": [
        {
          "output_type": "stream",
          "name": "stdout",
          "text": [
            "Cross-validation scores: [-0.01583989 -0.03369293 -0.09502597 -0.00307685 -0.13071073]\n",
            "Average Cross-validation score: -0.05566927499874441\n"
          ]
        }
      ]
    },
    {
      "cell_type": "markdown",
      "source": [
        "**Explanation:**\n",
        "\n",
        "Cross-validation helps ensure that the model performs well on different subsets of data."
      ],
      "metadata": {
        "id": "RSE0y1iy1DF5"
      }
    },
    {
      "cell_type": "markdown",
      "source": [
        "# **Step 7: Reflection and Discussion**\n"
      ],
      "metadata": {
        "id": "4uwDp5io1KcY"
      }
    },
    {
      "cell_type": "markdown",
      "source": [
        "**Share Results**\n",
        "\n",
        "Discuss the performance metrics you obtained. Did different features or models (e.g., Ridge) improve the results?\n",
        "\n",
        "**Identify Challenges**\n",
        "\n",
        "Talk about any difficulties you encountered. Did you have trouble with missing values or selecting features?\n",
        "\n",
        "**Applications in Real Life**\n",
        "\n",
        "Reflect on how such models could be useful in predicting economic growth and aiding decision-making in economics."
      ],
      "metadata": {
        "id": "MjAWejVM2QHl"
      }
    }
  ]
}