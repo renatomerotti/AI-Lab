{
  "nbformat": 4,
  "nbformat_minor": 0,
  "metadata": {
    "colab": {
      "provenance": []
    },
    "kernelspec": {
      "name": "python3",
      "display_name": "Python 3"
    },
    "language_info": {
      "name": "python"
    }
  },
  "cells": [
    {
      "cell_type": "markdown",
      "source": [
        "# **Step 1: Setting Up the Environment**\n"
      ],
      "metadata": {
        "id": "4jGR6MxEl0uX"
      }
    },
    {
      "cell_type": "markdown",
      "source": [
        "**Login and create a new notebook**\n",
        "\n",
        "Required Libraries:\n",
        "pandas and scikit-learn\n",
        "\n",
        "*   Colab already has **pandas** and **scikit-learn** pre-installed\n",
        "\n",
        "\n",
        "Library: **pandas** for data manipulation\n",
        "\n",
        "Library: **scikit-learn** to implement the model"
      ],
      "metadata": {
        "id": "u6jr85pb2UoZ"
      }
    },
    {
      "cell_type": "markdown",
      "source": [
        "# **Step 2: Importing Libraries and Loading the Dataset**"
      ],
      "metadata": {
        "id": "dVM4ToSdtT65"
      }
    },
    {
      "cell_type": "markdown",
      "source": [
        "### **2.1 Import the Libraries**"
      ],
      "metadata": {
        "id": "a_8ocFcrt6rG"
      }
    },
    {
      "cell_type": "code",
      "source": [
        "import pandas as pd\n",
        "import numpy as np\n",
        "from sklearn.linear_model import LinearRegression\n",
        "from sklearn.model_selection import train_test_split\n",
        "from sklearn.metrics import mean_squared_error, r2_score"
      ],
      "metadata": {
        "id": "DK5sthyfm0Jc"
      },
      "execution_count": null,
      "outputs": []
    },
    {
      "cell_type": "markdown",
      "source": [
        "**Explanation:**\n",
        "\n",
        "* pandas: to handle and analyze the dataset.\n",
        "* numpy: For numerical operations.\n",
        "* LinearRegression: To build our supervised learning model.\n",
        "* train_test_split: To split the dataset into training and testing sets.\n",
        "* mean_squared_error and r2_score: To evaluate the model’s performance."
      ],
      "metadata": {
        "id": "KrsCU9bCnJ6k"
      }
    },
    {
      "cell_type": "markdown",
      "source": [
        "### **2.2 Load the Dataset**\n",
        "\n",
        "Click the Files icon on the left panel and select Upload\n"
      ],
      "metadata": {
        "id": "_ez0Y9IznqET"
      }
    },
    {
      "cell_type": "code",
      "execution_count": null,
      "metadata": {
        "id": "FJ0LltMclsdH"
      },
      "outputs": [],
      "source": [
        "data = pd.read_csv('/content/economic_data.csv')  # Make sure the path matches your file's name\n",
        "data.head()\n"
      ]
    },
    {
      "cell_type": "markdown",
      "source": [
        "**Explanation:**\n",
        "\n",
        "Reads the CSV file and shows the first few rows to confirm the data has been loaded correctly.\n"
      ],
      "metadata": {
        "id": "PIwB-ovmoFSj"
      }
    },
    {
      "cell_type": "markdown",
      "source": [
        "# **STEP 3: Data Exploration and Preprocessing**\n",
        "\n"
      ],
      "metadata": {
        "id": "obGdzZXUomi_"
      }
    },
    {
      "cell_type": "markdown",
      "source": [
        "### **3.1. Explore the Dataset**"
      ],
      "metadata": {
        "id": "hqfJIk0HuMVq"
      }
    },
    {
      "cell_type": "code",
      "source": [
        "data.info()\n"
      ],
      "metadata": {
        "id": "oMF13xIUo49-"
      },
      "execution_count": null,
      "outputs": []
    },
    {
      "cell_type": "markdown",
      "source": [
        "**Explanation:**\n",
        "\n",
        "Shows the data types and if there are any missing values."
      ],
      "metadata": {
        "id": "PbZtLbfAo-Xl"
      }
    },
    {
      "cell_type": "code",
      "source": [
        "data.describe()"
      ],
      "metadata": {
        "id": "O48qn4sYqY2W"
      },
      "execution_count": null,
      "outputs": []
    },
    {
      "cell_type": "markdown",
      "source": [
        "**Explanation:**\n",
        "\n",
        "To see basic statistics."
      ],
      "metadata": {
        "id": "m1AtcA7qqbxF"
      }
    },
    {
      "cell_type": "markdown",
      "source": [
        "### **3.2 Data Cleaning**\n",
        "\n"
      ],
      "metadata": {
        "id": "WpyhkLyVr6w1"
      }
    },
    {
      "cell_type": "code",
      "source": [
        "data = data.dropna()"
      ],
      "metadata": {
        "id": "dnvVt_G6qrK1"
      },
      "execution_count": null,
      "outputs": []
    },
    {
      "cell_type": "markdown",
      "source": [
        "**Explanation:**\n",
        "\n",
        "Removes any rows where there are missing values."
      ],
      "metadata": {
        "id": "-Mfyio1yr9qg"
      }
    },
    {
      "cell_type": "markdown",
      "source": [
        "### **3.3 Feature Selection**\n",
        "\n",
        "Identify the columns (features) that you’ll use for prediction.\n",
        "\n",
        "For example, we might want to predict GDP growth (GDP_growth) using the unemployment rate (unemployment_rate) and inflation rate (inflation_rate):"
      ],
      "metadata": {
        "id": "T5_Gs5cPsZnI"
      }
    },
    {
      "cell_type": "code",
      "source": [
        "features = ['unemployment_rate', 'inflation_rate']\n",
        "target = 'GDP_growth'\n",
        "X = data[features]\n",
        "y = data[target]\n"
      ],
      "metadata": {
        "id": "F4NdYWSNsgev"
      },
      "execution_count": null,
      "outputs": []
    },
    {
      "cell_type": "markdown",
      "source": [
        "**Explanation:**\n",
        "\n",
        "X is the input features (what we use to predict).\n",
        "y is the target variable (what we want to predict)."
      ],
      "metadata": {
        "id": "VDjXwiCRshxn"
      }
    },
    {
      "cell_type": "markdown",
      "source": [
        "# **Step 4: Building the Supervised Learning Model**"
      ],
      "metadata": {
        "id": "DcbSzhcgoHbi"
      }
    },
    {
      "cell_type": "markdown",
      "source": [
        "### **4.1 Splitting the Dataset**"
      ],
      "metadata": {
        "id": "MJZeULz-vF6H"
      }
    },
    {
      "cell_type": "markdown",
      "source": [
        "Split the data into training and testing sets"
      ],
      "metadata": {
        "id": "fYrJeVqh0b5H"
      }
    },
    {
      "cell_type": "code",
      "source": [
        "X_train, X_test, y_train, y_test = train_test_split(X, y, test_size=0.2, random_state=42)\n"
      ],
      "metadata": {
        "id": "a2m5BGjmvPpg"
      },
      "execution_count": null,
      "outputs": []
    },
    {
      "cell_type": "markdown",
      "source": [
        "**Explanation:**\n",
        "\n",
        "X_train and y_train: Data used to train the model (80% of the dataset).\n",
        "\n",
        "X_test and y_test: Data used to test the model (20% of the dataset)."
      ],
      "metadata": {
        "id": "CJ9ZP2e3vThc"
      }
    },
    {
      "cell_type": "markdown",
      "source": [
        "### **4.2 Training the Model**"
      ],
      "metadata": {
        "id": "UGmCLhN8vk9z"
      }
    },
    {
      "cell_type": "markdown",
      "source": [
        "Create an instance of the Linear Regression model and train it using the training data."
      ],
      "metadata": {
        "id": "bSQQrGcb0VVH"
      }
    },
    {
      "cell_type": "code",
      "source": [
        "model = LinearRegression()\n",
        "model.fit(X_train, y_train)\n"
      ],
      "metadata": {
        "id": "6rv0smGpvwIW"
      },
      "execution_count": null,
      "outputs": []
    },
    {
      "cell_type": "markdown",
      "source": [
        "**Explanation:**\n",
        "\n",
        "fit() is the method that trains the model using X_train and y_train."
      ],
      "metadata": {
        "id": "T4rqkbAOv2yS"
      }
    },
    {
      "cell_type": "markdown",
      "source": [
        "### **4.3 Making Predictions**"
      ],
      "metadata": {
        "id": "yT1_U6gawEVI"
      }
    },
    {
      "cell_type": "markdown",
      "source": [
        "Using the model to make predictions on the test data."
      ],
      "metadata": {
        "id": "oLShEKyM0Q_l"
      }
    },
    {
      "cell_type": "code",
      "source": [
        "predictions = model.predict(X_test)\n"
      ],
      "metadata": {
        "id": "5pP3QOQ8wR_M"
      },
      "execution_count": null,
      "outputs": []
    },
    {
      "cell_type": "markdown",
      "source": [
        "**Explanation:**\n",
        "\n",
        "This code predicts GDP growth using the test set and stores the predictions in the variable predictions."
      ],
      "metadata": {
        "id": "45BkjIOlwWzG"
      }
    },
    {
      "cell_type": "markdown",
      "source": [
        "# **Step 5: Evaluating the Model**"
      ],
      "metadata": {
        "id": "TQeE6ZwHwnsP"
      }
    },
    {
      "cell_type": "markdown",
      "source": [
        "### **5.1 Calculate Performance Metrics**"
      ],
      "metadata": {
        "id": "nLo8EiasynW9"
      }
    },
    {
      "cell_type": "markdown",
      "source": [
        "Measure how well the model performs using R-squared and Mean Squared Error (MSE)"
      ],
      "metadata": {
        "id": "dczDkGcE0IVW"
      }
    },
    {
      "cell_type": "code",
      "source": [
        "r2 = r2_score(y_test, predictions)\n",
        "mse = mean_squared_error(y_test, predictions)\n",
        "print(f'R-squared: {r2}')\n",
        "print(f'Mean Squared Error: {mse}')\n"
      ],
      "metadata": {
        "id": "6v-Ny6GywyGc"
      },
      "execution_count": null,
      "outputs": []
    },
    {
      "cell_type": "markdown",
      "source": [
        "**Explanation:**\n",
        "\n",
        "R-squared tells us how much of the variation in GDP growth the model explains. The closer it is to 1, the better.\n",
        "\n",
        "MSE measures the average squared differences between predicted and actual values. A lower value indicates a better model."
      ],
      "metadata": {
        "id": "-98DkSI9yafy"
      }
    },
    {
      "cell_type": "markdown",
      "source": [
        "### **5.2 Interpreting the Results**"
      ],
      "metadata": {
        "id": "qeSZYFE-y6ZN"
      }
    },
    {
      "cell_type": "markdown",
      "source": [
        "Look at the values of R-squared and MSE. Discuss with your peers whether these values indicate a good or poor model performance."
      ],
      "metadata": {
        "id": "280Joc-SwP_s"
      }
    },
    {
      "cell_type": "markdown",
      "source": [
        "# **Step 6: Improving the Model**"
      ],
      "metadata": {
        "id": "e5nyZsrezF1g"
      }
    },
    {
      "cell_type": "markdown",
      "source": [
        "### **6.1 Feature Engineering**"
      ],
      "metadata": {
        "id": "sJRcaYCDzM0G"
      }
    },
    {
      "cell_type": "markdown",
      "source": [
        "Add new features that may improve the model’s performance. For example, you might add lag values of the unemployment rate to capture trends."
      ],
      "metadata": {
        "id": "tYJKfrNW0CmG"
      }
    },
    {
      "cell_type": "code",
      "source": [
        "data['unemployment_rate_lag1'] = data['unemployment_rate'].shift(1)\n",
        "X = data[['unemployment_rate', 'inflation_rate', 'unemployment_rate_lag1']].dropna()\n"
      ],
      "metadata": {
        "id": "Mq2I7ETezxvf"
      },
      "execution_count": null,
      "outputs": []
    },
    {
      "cell_type": "markdown",
      "source": [
        "**Explanation:**\n",
        "\n",
        "This code adds a new feature, the lagged unemployment rate, which may provide additional insight."
      ],
      "metadata": {
        "id": "zKavCWybzy04"
      }
    },
    {
      "cell_type": "markdown",
      "source": [
        "### **6.2 Applying Regularization (Ridge Regression)**"
      ],
      "metadata": {
        "id": "L-XWBvSLzbnf"
      }
    },
    {
      "cell_type": "markdown",
      "source": [
        "Use Ridge regression to see if it improves the model by preventing overfitting."
      ],
      "metadata": {
        "id": "DVvMo9oV0uDb"
      }
    },
    {
      "cell_type": "code",
      "source": [
        "from sklearn.linear_model import Ridge\n",
        "ridge_model = Ridge(alpha=1.0)\n",
        "ridge_model.fit(X_train, y_train)\n",
        "ridge_predictions = ridge_model.predict(X_test)\n"
      ],
      "metadata": {
        "id": "ewMc_cHV0vYe"
      },
      "execution_count": null,
      "outputs": []
    },
    {
      "cell_type": "markdown",
      "source": [
        "**Explanation:**\n",
        "\n",
        "Ridge regression includes a penalty to prevent the model from becoming too complex."
      ],
      "metadata": {
        "id": "eo48qdt-0x4Q"
      }
    },
    {
      "cell_type": "markdown",
      "source": [
        "### **6.3 Cross-Validation**"
      ],
      "metadata": {
        "id": "bQHZKzSPzpEU"
      }
    },
    {
      "cell_type": "markdown",
      "source": [
        "Use cross-validation to validate the model’s robustness."
      ],
      "metadata": {
        "id": "dEmv5mdC09Ot"
      }
    },
    {
      "cell_type": "code",
      "source": [
        "from sklearn.model_selection import cross_val_score\n",
        "from sklearn.linear_model import LinearRegression\n",
        "import pandas as pd\n",
        "\n",
        "# Make sure X and y are properly set up with no missing values and are numeric\n",
        "X = data[['unemployment_rate', 'inflation_rate']].dropna()\n",
        "y = data['GDP_growth'].dropna()\n",
        "\n",
        "# Initialize the model\n",
        "model = LinearRegression()\n",
        "\n",
        "# Apply cross-validation\n",
        "scores = cross_val_score(model, X, y, cv=5)\n",
        "print(f'Cross-validation scores: {scores}')\n",
        "print(f'Average Cross-validation score: {scores.mean()}')\n"
      ],
      "metadata": {
        "id": "witkKi0p0-vQ"
      },
      "execution_count": null,
      "outputs": []
    },
    {
      "cell_type": "markdown",
      "source": [
        "**Explanation:**\n",
        "\n",
        "Cross-validation helps ensure that the model performs well on different subsets of data."
      ],
      "metadata": {
        "id": "RSE0y1iy1DF5"
      }
    },
    {
      "cell_type": "markdown",
      "source": [
        "# **Step 7: Reflection and Discussion**\n"
      ],
      "metadata": {
        "id": "4uwDp5io1KcY"
      }
    },
    {
      "cell_type": "markdown",
      "source": [
        "**Share Results**\n",
        "\n",
        "Discuss the performance metrics you obtained. Did different features or models (e.g., Ridge) improve the results?\n",
        "\n",
        "**Identify Challenges**\n",
        "\n",
        "Talk about any difficulties you encountered. Did you have trouble with missing values or selecting features?\n",
        "\n",
        "**Applications in Real Life**\n",
        "\n",
        "Reflect on how such models could be useful in predicting economic growth and aiding decision-making in economics."
      ],
      "metadata": {
        "id": "MjAWejVM2QHl"
      }
    }
  ]
}