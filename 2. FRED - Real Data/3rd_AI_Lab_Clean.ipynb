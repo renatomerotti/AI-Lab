{
  "nbformat": 4,
  "nbformat_minor": 0,
  "metadata": {
    "colab": {
      "provenance": []
    },
    "kernelspec": {
      "name": "python3",
      "display_name": "Python 3"
    },
    "language_info": {
      "name": "python"
    }
  },
  "cells": [
    {
      "cell_type": "markdown",
      "source": [
        "# **Step 1: Setting Up the Environment**\n"
      ],
      "metadata": {
        "id": "4jGR6MxEl0uX"
      }
    },
    {
      "cell_type": "markdown",
      "source": [
        "**Login and create a new notebook**\n",
        "\n",
        "Required Libraries:\n",
        "pandas and scikit-learn\n",
        "\n",
        "*   Colab already has **pandas** and **scikit-learn** pre-installed\n",
        "\n",
        "\n",
        "Library: **pandas** for data manipulation\n",
        "\n",
        "Library: **scikit-learn** to implement the model"
      ],
      "metadata": {
        "id": "u6jr85pb2UoZ"
      }
    },
    {
      "cell_type": "markdown",
      "source": [
        "# **Step 2: Importing Libraries and Loading the Dataset**"
      ],
      "metadata": {
        "id": "dVM4ToSdtT65"
      }
    },
    {
      "cell_type": "markdown",
      "source": [
        "### **2.1 Import the Libraries**"
      ],
      "metadata": {
        "id": "a_8ocFcrt6rG"
      }
    },
    {
      "cell_type": "code",
      "source": [
        "import pandas as pd\n",
        "import numpy as np\n",
        "from sklearn.linear_model import LinearRegression\n",
        "from sklearn.model_selection import train_test_split\n",
        "from sklearn.metrics import mean_squared_error, r2_score"
      ],
      "metadata": {
        "id": "DK5sthyfm0Jc"
      },
      "execution_count": null,
      "outputs": []
    },
    {
      "cell_type": "markdown",
      "source": [
        "**Explanation:**\n",
        "\n",
        "* pandas: to handle and analyze the dataset.\n",
        "* numpy: For numerical operations.\n",
        "* LinearRegression: To build our supervised learning model.\n",
        "* train_test_split: To split the dataset into training and testing sets.\n",
        "* mean_squared_error and r2_score: To evaluate the model’s performance."
      ],
      "metadata": {
        "id": "KrsCU9bCnJ6k"
      }
    },
    {
      "cell_type": "markdown",
      "source": [
        "### **2.2 Load the Dataset**\n",
        "\n",
        "Click the Files icon on the left panel and select Upload\n"
      ],
      "metadata": {
        "id": "_ez0Y9IznqET"
      }
    },
    {
      "cell_type": "code",
      "execution_count": null,
      "metadata": {
        "id": "FJ0LltMclsdH"
      },
      "outputs": [],
      "source": [
        "data = pd.read_csv('/content/economic_data_500_quarters.csv')  # Make sure the path matches your file's name\n",
        "data.head()\n"
      ]
    },
    {
      "cell_type": "markdown",
      "source": [
        "**Explanation:**\n",
        "\n",
        "Reads the CSV file and shows the first few rows to confirm the data has been loaded correctly.\n"
      ],
      "metadata": {
        "id": "PIwB-ovmoFSj"
      }
    },
    {
      "cell_type": "markdown",
      "source": [
        "# **STEP 3: Data Exploration and Preprocessing**\n",
        "\n"
      ],
      "metadata": {
        "id": "obGdzZXUomi_"
      }
    },
    {
      "cell_type": "markdown",
      "source": [
        "### **3.1 Explore the Dataset**"
      ],
      "metadata": {
        "id": "hqfJIk0HuMVq"
      }
    },
    {
      "cell_type": "code",
      "source": [
        "data.info()\n"
      ],
      "metadata": {
        "id": "oMF13xIUo49-"
      },
      "execution_count": null,
      "outputs": []
    },
    {
      "cell_type": "markdown",
      "source": [
        "**Explanation:**\n",
        "\n",
        "Shows the data types and if there are any missing values."
      ],
      "metadata": {
        "id": "PbZtLbfAo-Xl"
      }
    },
    {
      "cell_type": "code",
      "source": [
        "data.describe()"
      ],
      "metadata": {
        "id": "O48qn4sYqY2W"
      },
      "execution_count": null,
      "outputs": []
    },
    {
      "cell_type": "markdown",
      "source": [
        "**Explanation:**\n",
        "\n",
        "To see basic statistics."
      ],
      "metadata": {
        "id": "m1AtcA7qqbxF"
      }
    },
    {
      "cell_type": "markdown",
      "source": [
        "### **3.2 Data Cleaning**\n",
        "\n"
      ],
      "metadata": {
        "id": "WpyhkLyVr6w1"
      }
    },
    {
      "cell_type": "code",
      "source": [
        "# Check the initial number of rows\n",
        "initial_rows = data.shape[0]\n",
        "\n",
        "# Drop rows with missing values\n",
        "data = data.dropna()\n",
        "\n",
        "# Check the number of rows after dropping missing values\n",
        "final_rows = data.shape[0]\n",
        "\n",
        "# Print a summary message\n",
        "print(f'Data cleaning completed. {initial_rows - final_rows} rows with missing values were removed. Total rows remaining: {final_rows}.')\n"
      ],
      "metadata": {
        "id": "dnvVt_G6qrK1"
      },
      "execution_count": null,
      "outputs": []
    },
    {
      "cell_type": "markdown",
      "source": [
        "**Explanation:**\n",
        "\n",
        "Removes any rows where there are missing values.\n",
        "\n",
        "initial_rows: Captures the number of rows before removing any missing values.\n",
        "\n",
        "final_rows: Captures the number of rows after dropping missing values.\n",
        "\n",
        "The print statement provides a clear message indicating:\n",
        "\n",
        "The number of rows removed.\n",
        "\n",
        "The total number of rows remaining in the dataset after cleaning."
      ],
      "metadata": {
        "id": "-Mfyio1yr9qg"
      }
    },
    {
      "cell_type": "markdown",
      "source": [
        "### **3.3 Feature Selection**\n",
        "\n",
        "Identify the columns (features) that you’ll use for prediction.\n",
        "\n",
        "For example, we might want to predict GDP growth (GDP_growth) using the unemployment rate (unemployment_rate) and inflation rate (inflation_rate):"
      ],
      "metadata": {
        "id": "T5_Gs5cPsZnI"
      }
    },
    {
      "cell_type": "code",
      "source": [
        "# Define the features and target variable\n",
        "features = ['unemployment_rate', 'inflation_rate']\n",
        "target = 'GDP_growth'\n",
        "\n",
        "# Create the feature set (X) and target (y)\n",
        "X = data[features]\n",
        "y = data[target]\n",
        "\n",
        "# Print a summary message\n",
        "print(f'Feature selection completed. Selected features: {features}.')\n",
        "print(f'Feature set shape: {X.shape}. Target variable shape: {y.shape}.')\n",
        "\n"
      ],
      "metadata": {
        "id": "F4NdYWSNsgev"
      },
      "execution_count": null,
      "outputs": []
    },
    {
      "cell_type": "markdown",
      "source": [
        "**Explanation:**\n",
        "\n",
        "features: Lists the selected columns used for prediction.\n",
        "\n",
        "X = data[features]: Creates a new DataFrame containing only the selected feature columns. X is the input features (what we use to predict).\n",
        "\n",
        "y = data[target]: Defines the target variable. (what we want to predict).\n",
        "\n",
        "The **print** statements provide:\n",
        "\n",
        "Confirmation of the selected features.\n",
        "\n",
        "The shape of the feature set (X.shape), indicating how many rows and columns are now included.\n",
        "\n",
        "The shape of the target variable (y.shape), showing how many rows it contains."
      ],
      "metadata": {
        "id": "VDjXwiCRshxn"
      }
    },
    {
      "cell_type": "markdown",
      "source": [
        "# **Step 4: Building the Supervised Learning Model**"
      ],
      "metadata": {
        "id": "DcbSzhcgoHbi"
      }
    },
    {
      "cell_type": "markdown",
      "source": [
        "### **4.1 Splitting the Dataset**"
      ],
      "metadata": {
        "id": "MJZeULz-vF6H"
      }
    },
    {
      "cell_type": "markdown",
      "source": [
        "Split the data into training and testing sets"
      ],
      "metadata": {
        "id": "fYrJeVqh0b5H"
      }
    },
    {
      "cell_type": "code",
      "source": [
        "from sklearn.model_selection import train_test_split\n",
        "\n",
        "# Split the dataset into training and testing sets\n",
        "X_train, X_test, y_train, y_test = train_test_split(X, y, test_size=0.2, random_state=42)\n",
        "\n",
        "# Print a summary message\n",
        "print(f'Dataset splitting completed.')\n",
        "print(f'Training set shape: X_train: {X_train.shape}, y_train: {y_train.shape}')\n",
        "print(f'Testing set shape: X_test: {X_test.shape}, y_test: {y_test.shape}')\n",
        "\n"
      ],
      "metadata": {
        "id": "a2m5BGjmvPpg"
      },
      "execution_count": null,
      "outputs": []
    },
    {
      "cell_type": "markdown",
      "source": [
        "**Explanation:**\n",
        "\n",
        "X_train and y_train: Data used to train the model (80% of the dataset).\n",
        "\n",
        "X_test and y_test: Data used to test the model (20% of the dataset).\n",
        "\n",
        "train_test_split(X, y, test_size=0.2, random_state=42): Splits the dataset into training (80%) and testing (20%) sets.\n",
        "\n",
        "X_train, y_train: Feature and target variables for the training set.\n",
        "\n",
        "X_test, y_test: Feature and target variables for the testing set.\n",
        "\n",
        "The **print** statements provide:\n",
        "\n",
        "Confirmation that the dataset has been split successfully.\n",
        "\n",
        "The shapes of the training and testing sets, showing how many rows (samples) and columns (features) are included in each part."
      ],
      "metadata": {
        "id": "CJ9ZP2e3vThc"
      }
    },
    {
      "cell_type": "markdown",
      "source": [
        "### **4.2 Training the Model**"
      ],
      "metadata": {
        "id": "UGmCLhN8vk9z"
      }
    },
    {
      "cell_type": "markdown",
      "source": [
        "Create an instance of the Linear Regression model and train it using the training data."
      ],
      "metadata": {
        "id": "bSQQrGcb0VVH"
      }
    },
    {
      "cell_type": "code",
      "source": [
        "from sklearn.linear_model import LinearRegression\n",
        "\n",
        "# Initialize the Linear Regression model\n",
        "model = LinearRegression()\n",
        "\n",
        "# Train the model using the training data\n",
        "model.fit(X_train, y_train)\n",
        "\n",
        "# Print a summary message\n",
        "print('Model training completed successfully.')\n",
        "print(f'Coefficients: {model.coef_}')\n",
        "print(f'Intercept: {model.intercept_}')\n",
        "\n"
      ],
      "metadata": {
        "id": "6rv0smGpvwIW"
      },
      "execution_count": null,
      "outputs": []
    },
    {
      "cell_type": "markdown",
      "source": [
        "**Explanation:**\n",
        "\n",
        "model.fit(X_train, y_train): Trains the model using the training data (X_train and y_train).\n",
        "\n",
        "The **print** statements provide:\n",
        "\n",
        "Confirmation that the model has been trained.\n",
        "\n",
        "The coefficients (model.coef_) indicate the relationship between each feature and the target variable.\n",
        "\n",
        "The intercept (model.intercept_) is the point where the regression line crosses the y-axis when all feature values are zero."
      ],
      "metadata": {
        "id": "T4rqkbAOv2yS"
      }
    },
    {
      "cell_type": "markdown",
      "source": [
        "### **4.3 Making Predictions**"
      ],
      "metadata": {
        "id": "yT1_U6gawEVI"
      }
    },
    {
      "cell_type": "markdown",
      "source": [
        "Using the model to make predictions on the test data."
      ],
      "metadata": {
        "id": "oLShEKyM0Q_l"
      }
    },
    {
      "cell_type": "code",
      "source": [
        "# Make predictions on the test set\n",
        "predictions = model.predict(X_test)\n",
        "\n",
        "# Print a summary message\n",
        "print('Predictions completed.')\n",
        "print('First 5 predictions:', predictions[:5])\n",
        "print('First 5 actual values:', y_test.values[:5])\n",
        "\n"
      ],
      "metadata": {
        "id": "5pP3QOQ8wR_M"
      },
      "execution_count": null,
      "outputs": []
    },
    {
      "cell_type": "markdown",
      "source": [
        "**Explanation:**\n",
        "\n",
        "This code predicts GDP growth using the test set and stores the predictions in the variable predictions.\n",
        "\n",
        "model.predict(X_test): Uses the trained model to predict the target values based on the features in the test set (X_test).\n",
        "\n",
        "The **print** statements provide:\n",
        "\n",
        "Confirmation that the prediction process has been completed.\n",
        "The first 5 predicted values (predictions[:5]) to show a sample of the output from the model.\n",
        "\n",
        "The first 5 actual values from y_test to compare with the predicted values, helping to visualize how close the predictions are to the actual values."
      ],
      "metadata": {
        "id": "45BkjIOlwWzG"
      }
    },
    {
      "cell_type": "markdown",
      "source": [
        "# **Step 5: Evaluating the Model**"
      ],
      "metadata": {
        "id": "TQeE6ZwHwnsP"
      }
    },
    {
      "cell_type": "markdown",
      "source": [
        "### **5.1 Calculate Performance Metrics**"
      ],
      "metadata": {
        "id": "nLo8EiasynW9"
      }
    },
    {
      "cell_type": "markdown",
      "source": [
        "Measure how well the model performs using R-squared and Mean Squared Error (MSE)"
      ],
      "metadata": {
        "id": "dczDkGcE0IVW"
      }
    },
    {
      "cell_type": "code",
      "source": [
        "r2 = r2_score(y_test, predictions)\n",
        "mse = mean_squared_error(y_test, predictions)\n",
        "print(f'R-squared: {r2}')\n",
        "print(f'Mean Squared Error: {mse}')\n"
      ],
      "metadata": {
        "id": "6v-Ny6GywyGc"
      },
      "execution_count": null,
      "outputs": []
    },
    {
      "cell_type": "markdown",
      "source": [
        "**Explanation:**\n",
        "\n",
        "R-squared tells us how much of the variation in GDP growth the model explains. The closer it is to 1, the better.\n",
        "\n",
        "MSE measures the average squared differences between predicted and actual values. A lower value indicates a better model."
      ],
      "metadata": {
        "id": "-98DkSI9yafy"
      }
    },
    {
      "cell_type": "markdown",
      "source": [
        "### **5.2 Interpreting the Results**"
      ],
      "metadata": {
        "id": "qeSZYFE-y6ZN"
      }
    },
    {
      "cell_type": "markdown",
      "source": [
        "Look at the values of R-squared and MSE. Discuss with your peers whether these values indicate a good or poor model performance."
      ],
      "metadata": {
        "id": "280Joc-SwP_s"
      }
    },
    {
      "cell_type": "markdown",
      "source": [
        "# **Step 6: Improving the Model**"
      ],
      "metadata": {
        "id": "e5nyZsrezF1g"
      }
    },
    {
      "cell_type": "markdown",
      "source": [
        "### **6.1 Feature Engineering**"
      ],
      "metadata": {
        "id": "sJRcaYCDzM0G"
      }
    },
    {
      "cell_type": "markdown",
      "source": [
        "Add new features that may improve the model’s performance. For example, you might add lag values of the unemployment rate to capture trends."
      ],
      "metadata": {
        "id": "tYJKfrNW0CmG"
      }
    },
    {
      "cell_type": "code",
      "source": [
        "# Add a new feature: Lagged value of the unemployment rate\n",
        "data['unemployment_rate_lag1'] = data['unemployment_rate'].shift(1)\n",
        "\n",
        "# Drop any rows with missing values after creating the lagged feature\n",
        "data = data.dropna()\n",
        "\n",
        "# Update the feature set (X) to include the new feature\n",
        "X = data[['unemployment_rate', 'inflation_rate', 'unemployment_rate_lag1']]\n",
        "\n",
        "# Print a summary message\n",
        "print('Feature engineering completed. New feature \"unemployment_rate_lag1\" added.')\n",
        "print(f'Updated feature set shape: {X.shape}')\n",
        "print('Preview of the modified dataset:')\n",
        "print(X.head())\n",
        "\n"
      ],
      "metadata": {
        "id": "Mq2I7ETezxvf"
      },
      "execution_count": null,
      "outputs": []
    },
    {
      "cell_type": "markdown",
      "source": [
        "**Explanation:**\n",
        "\n",
        "This code adds a new feature, the lagged unemployment rate, which may provide additional insight.\n",
        "\n",
        "data['unemployment_rate_lag1'] = data['unemployment_rate'].shift(1): Creates a new feature that is the lagged unemployment rate (value from the previous period).\n",
        "\n",
        "data.dropna(): Ensures that any rows with missing values after creating the lagged feature are removed.\n",
        "\n",
        "X is updated to include the new feature, unemployment_rate_lag1, along with the other existing features.\n",
        "\n",
        "The **print** statements provide:\n",
        "\n",
        "Confirmation that the new feature has been added.\n",
        "\n",
        "The shape of the updated feature set (X.shape) to show how many features and rows are included.\n",
        "\n",
        "A preview of the first few rows of the modified dataset to visualize the changes."
      ],
      "metadata": {
        "id": "zKavCWybzy04"
      }
    },
    {
      "cell_type": "markdown",
      "source": [
        "### **6.2 Applying Regularization (Ridge Regression)**"
      ],
      "metadata": {
        "id": "L-XWBvSLzbnf"
      }
    },
    {
      "cell_type": "markdown",
      "source": [
        "Use Ridge regression to see if it improves the model by preventing overfitting."
      ],
      "metadata": {
        "id": "DVvMo9oV0uDb"
      }
    },
    {
      "cell_type": "code",
      "source": [
        "from sklearn.linear_model import Ridge\n",
        "\n",
        "# Create an instance of the Ridge Regression model\n",
        "ridge_model = Ridge(alpha=1.0)\n",
        "\n",
        "# Train (fit) the Ridge model on the training data\n",
        "ridge_model.fit(X_train, y_train)\n",
        "\n",
        "# Print a summary message\n",
        "print('Ridge Regression model training completed with alpha = 1.0.')\n",
        "print(f'Ridge Coefficients: {ridge_model.coef_}')\n",
        "print(f'Ridge Intercept: {ridge_model.intercept_}')\n",
        "\n"
      ],
      "metadata": {
        "id": "ewMc_cHV0vYe"
      },
      "execution_count": null,
      "outputs": []
    },
    {
      "cell_type": "markdown",
      "source": [
        "**Explanation:**\n",
        "\n",
        "Ridge regression includes a penalty to prevent the model from becoming too complex.\n",
        "\n",
        "Ridge(alpha=1.0): Creates a Ridge Regression model with a regularization strength (alpha) set to 1.0. We can adjust this value to see how different levels of regularization affect the model.\n",
        "\n",
        "ridge_model.fit(X_train, y_train): Trains the Ridge Regression model using the training data.\n",
        "\n",
        "The **print** statements provide:\n",
        "\n",
        "Confirmation that the Ridge model has been trained with the specified alpha value.\n",
        "\n",
        "The coefficients (ridge_model.coef_) showing the impact of each feature after regularization.\n",
        "\n",
        "The intercept (ridge_model.intercept_) of the Ridge model."
      ],
      "metadata": {
        "id": "eo48qdt-0x4Q"
      }
    },
    {
      "cell_type": "markdown",
      "source": [
        "### **6.3 Cross-Validation**"
      ],
      "metadata": {
        "id": "bQHZKzSPzpEU"
      }
    },
    {
      "cell_type": "markdown",
      "source": [
        "Use cross-validation to validate the model’s robustness."
      ],
      "metadata": {
        "id": "dEmv5mdC09Ot"
      }
    },
    {
      "cell_type": "code",
      "source": [
        "from sklearn.model_selection import cross_val_score\n",
        "from sklearn.linear_model import LinearRegression\n",
        "import pandas as pd\n",
        "\n",
        "# Make sure X and y are properly set up with no missing values and are numeric\n",
        "X = data[['unemployment_rate', 'inflation_rate']].dropna()\n",
        "y = data['GDP_growth'].dropna()\n",
        "\n",
        "# Initialize the model\n",
        "model = LinearRegression()\n",
        "\n",
        "# Apply cross-validation\n",
        "scores = cross_val_score(model, X, y, cv=5)\n",
        "print(f'Cross-validation scores: {scores}')\n",
        "print(f'Average Cross-validation score: {scores.mean()}')\n",
        "\n",
        "\n"
      ],
      "metadata": {
        "id": "witkKi0p0-vQ"
      },
      "execution_count": null,
      "outputs": []
    },
    {
      "cell_type": "markdown",
      "source": [
        "**Explanation:**\n",
        "\n",
        "Cross-validation helps ensure that the model performs well on different subsets of data."
      ],
      "metadata": {
        "id": "RSE0y1iy1DF5"
      }
    },
    {
      "cell_type": "markdown",
      "source": [
        "# **Step 7: Reflection and Discussion**\n"
      ],
      "metadata": {
        "id": "4uwDp5io1KcY"
      }
    },
    {
      "cell_type": "markdown",
      "source": [
        "**Share Results**\n",
        "\n",
        "Discuss the performance metrics you obtained. Did different features or models (e.g., Ridge) improve the results?\n",
        "\n",
        "**Identify Challenges**\n",
        "\n",
        "Talk about any difficulties you encountered. Did you have trouble with missing values or selecting features?\n",
        "\n",
        "**Applications in Real Life**\n",
        "\n",
        "Reflect on how such models could be useful in predicting economic growth and aiding decision-making in economics."
      ],
      "metadata": {
        "id": "MjAWejVM2QHl"
      }
    }
  ]
}