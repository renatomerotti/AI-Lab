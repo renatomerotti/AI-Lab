{
  "nbformat": 4,
  "nbformat_minor": 0,
  "metadata": {
    "colab": {
      "provenance": []
    },
    "kernelspec": {
      "name": "python3",
      "display_name": "Python 3"
    },
    "language_info": {
      "name": "python"
    }
  },
  "cells": [
    {
      "cell_type": "markdown",
      "source": [
        "# **Step 1: Setting Up the Environment**\n"
      ],
      "metadata": {
        "id": "4jGR6MxEl0uX"
      }
    },
    {
      "cell_type": "markdown",
      "source": [
        "**Login and create a new notebook**\n",
        "\n",
        "Required Libraries:\n",
        "pandas and scikit-learn\n",
        "\n",
        "*   Colab already has **pandas** and **scikit-learn** pre-installed\n",
        "\n",
        "\n",
        "Library: **pandas** for data manipulation\n",
        "\n",
        "Library: **scikit-learn** to implement the model"
      ],
      "metadata": {
        "id": "u6jr85pb2UoZ"
      }
    },
    {
      "cell_type": "markdown",
      "source": [
        "# **Step 2: Importing Libraries and Loading the Dataset**"
      ],
      "metadata": {
        "id": "dVM4ToSdtT65"
      }
    },
    {
      "cell_type": "markdown",
      "source": [
        "### **2.1 Import the Libraries**"
      ],
      "metadata": {
        "id": "a_8ocFcrt6rG"
      }
    },
    {
      "cell_type": "code",
      "source": [
        "import pandas as pd\n",
        "import numpy as np\n",
        "from sklearn.linear_model import LinearRegression\n",
        "from sklearn.model_selection import train_test_split\n",
        "from sklearn.metrics import mean_squared_error, r2_score"
      ],
      "metadata": {
        "id": "DK5sthyfm0Jc"
      },
      "execution_count": null,
      "outputs": []
    },
    {
      "cell_type": "markdown",
      "source": [
        "**Explanation:**\n",
        "\n",
        "* pandas: to handle and analyze the dataset.\n",
        "* numpy: For numerical operations.\n",
        "* LinearRegression: To build our supervised learning model.\n",
        "* train_test_split: To split the dataset into training and testing sets.\n",
        "* mean_squared_error and r2_score: To evaluate the model’s performance."
      ],
      "metadata": {
        "id": "KrsCU9bCnJ6k"
      }
    },
    {
      "cell_type": "markdown",
      "source": [
        "### **2.2 Load the Dataset**\n",
        "\n",
        "Click the Files icon on the left panel and select Upload\n"
      ],
      "metadata": {
        "id": "_ez0Y9IznqET"
      }
    },
    {
      "cell_type": "code",
      "execution_count": null,
      "metadata": {
        "colab": {
          "base_uri": "https://localhost:8080/",
          "height": 206
        },
        "id": "FJ0LltMclsdH",
        "outputId": "4675d02c-1c72-4551-fd23-e586d5460ba3"
      },
      "outputs": [
        {
          "output_type": "execute_result",
          "data": {
            "text/plain": [
              "      date  GDP_growth  unemployment_rate  inflation_rate\n",
              "0   1/1/48     265.742                3.4           23.68\n",
              "1   4/1/48     272.567                3.9           23.82\n",
              "2   7/1/48     279.196                3.6           24.40\n",
              "3  10/1/48     280.366                3.7           24.31\n",
              "4   1/1/49     275.034                4.3           24.01"
            ],
            "text/html": [
              "\n",
              "  <div id=\"df-31d2ce39-8659-4340-9b0a-e09a3c71bcbd\" class=\"colab-df-container\">\n",
              "    <div>\n",
              "<style scoped>\n",
              "    .dataframe tbody tr th:only-of-type {\n",
              "        vertical-align: middle;\n",
              "    }\n",
              "\n",
              "    .dataframe tbody tr th {\n",
              "        vertical-align: top;\n",
              "    }\n",
              "\n",
              "    .dataframe thead th {\n",
              "        text-align: right;\n",
              "    }\n",
              "</style>\n",
              "<table border=\"1\" class=\"dataframe\">\n",
              "  <thead>\n",
              "    <tr style=\"text-align: right;\">\n",
              "      <th></th>\n",
              "      <th>date</th>\n",
              "      <th>GDP_growth</th>\n",
              "      <th>unemployment_rate</th>\n",
              "      <th>inflation_rate</th>\n",
              "    </tr>\n",
              "  </thead>\n",
              "  <tbody>\n",
              "    <tr>\n",
              "      <th>0</th>\n",
              "      <td>1/1/48</td>\n",
              "      <td>265.742</td>\n",
              "      <td>3.4</td>\n",
              "      <td>23.68</td>\n",
              "    </tr>\n",
              "    <tr>\n",
              "      <th>1</th>\n",
              "      <td>4/1/48</td>\n",
              "      <td>272.567</td>\n",
              "      <td>3.9</td>\n",
              "      <td>23.82</td>\n",
              "    </tr>\n",
              "    <tr>\n",
              "      <th>2</th>\n",
              "      <td>7/1/48</td>\n",
              "      <td>279.196</td>\n",
              "      <td>3.6</td>\n",
              "      <td>24.40</td>\n",
              "    </tr>\n",
              "    <tr>\n",
              "      <th>3</th>\n",
              "      <td>10/1/48</td>\n",
              "      <td>280.366</td>\n",
              "      <td>3.7</td>\n",
              "      <td>24.31</td>\n",
              "    </tr>\n",
              "    <tr>\n",
              "      <th>4</th>\n",
              "      <td>1/1/49</td>\n",
              "      <td>275.034</td>\n",
              "      <td>4.3</td>\n",
              "      <td>24.01</td>\n",
              "    </tr>\n",
              "  </tbody>\n",
              "</table>\n",
              "</div>\n",
              "    <div class=\"colab-df-buttons\">\n",
              "\n",
              "  <div class=\"colab-df-container\">\n",
              "    <button class=\"colab-df-convert\" onclick=\"convertToInteractive('df-31d2ce39-8659-4340-9b0a-e09a3c71bcbd')\"\n",
              "            title=\"Convert this dataframe to an interactive table.\"\n",
              "            style=\"display:none;\">\n",
              "\n",
              "  <svg xmlns=\"http://www.w3.org/2000/svg\" height=\"24px\" viewBox=\"0 -960 960 960\">\n",
              "    <path d=\"M120-120v-720h720v720H120Zm60-500h600v-160H180v160Zm220 220h160v-160H400v160Zm0 220h160v-160H400v160ZM180-400h160v-160H180v160Zm440 0h160v-160H620v160ZM180-180h160v-160H180v160Zm440 0h160v-160H620v160Z\"/>\n",
              "  </svg>\n",
              "    </button>\n",
              "\n",
              "  <style>\n",
              "    .colab-df-container {\n",
              "      display:flex;\n",
              "      gap: 12px;\n",
              "    }\n",
              "\n",
              "    .colab-df-convert {\n",
              "      background-color: #E8F0FE;\n",
              "      border: none;\n",
              "      border-radius: 50%;\n",
              "      cursor: pointer;\n",
              "      display: none;\n",
              "      fill: #1967D2;\n",
              "      height: 32px;\n",
              "      padding: 0 0 0 0;\n",
              "      width: 32px;\n",
              "    }\n",
              "\n",
              "    .colab-df-convert:hover {\n",
              "      background-color: #E2EBFA;\n",
              "      box-shadow: 0px 1px 2px rgba(60, 64, 67, 0.3), 0px 1px 3px 1px rgba(60, 64, 67, 0.15);\n",
              "      fill: #174EA6;\n",
              "    }\n",
              "\n",
              "    .colab-df-buttons div {\n",
              "      margin-bottom: 4px;\n",
              "    }\n",
              "\n",
              "    [theme=dark] .colab-df-convert {\n",
              "      background-color: #3B4455;\n",
              "      fill: #D2E3FC;\n",
              "    }\n",
              "\n",
              "    [theme=dark] .colab-df-convert:hover {\n",
              "      background-color: #434B5C;\n",
              "      box-shadow: 0px 1px 3px 1px rgba(0, 0, 0, 0.15);\n",
              "      filter: drop-shadow(0px 1px 2px rgba(0, 0, 0, 0.3));\n",
              "      fill: #FFFFFF;\n",
              "    }\n",
              "  </style>\n",
              "\n",
              "    <script>\n",
              "      const buttonEl =\n",
              "        document.querySelector('#df-31d2ce39-8659-4340-9b0a-e09a3c71bcbd button.colab-df-convert');\n",
              "      buttonEl.style.display =\n",
              "        google.colab.kernel.accessAllowed ? 'block' : 'none';\n",
              "\n",
              "      async function convertToInteractive(key) {\n",
              "        const element = document.querySelector('#df-31d2ce39-8659-4340-9b0a-e09a3c71bcbd');\n",
              "        const dataTable =\n",
              "          await google.colab.kernel.invokeFunction('convertToInteractive',\n",
              "                                                    [key], {});\n",
              "        if (!dataTable) return;\n",
              "\n",
              "        const docLinkHtml = 'Like what you see? Visit the ' +\n",
              "          '<a target=\"_blank\" href=https://colab.research.google.com/notebooks/data_table.ipynb>data table notebook</a>'\n",
              "          + ' to learn more about interactive tables.';\n",
              "        element.innerHTML = '';\n",
              "        dataTable['output_type'] = 'display_data';\n",
              "        await google.colab.output.renderOutput(dataTable, element);\n",
              "        const docLink = document.createElement('div');\n",
              "        docLink.innerHTML = docLinkHtml;\n",
              "        element.appendChild(docLink);\n",
              "      }\n",
              "    </script>\n",
              "  </div>\n",
              "\n",
              "\n",
              "<div id=\"df-07c284c6-a034-41cf-824b-0b32b71fcffd\">\n",
              "  <button class=\"colab-df-quickchart\" onclick=\"quickchart('df-07c284c6-a034-41cf-824b-0b32b71fcffd')\"\n",
              "            title=\"Suggest charts\"\n",
              "            style=\"display:none;\">\n",
              "\n",
              "<svg xmlns=\"http://www.w3.org/2000/svg\" height=\"24px\"viewBox=\"0 0 24 24\"\n",
              "     width=\"24px\">\n",
              "    <g>\n",
              "        <path d=\"M19 3H5c-1.1 0-2 .9-2 2v14c0 1.1.9 2 2 2h14c1.1 0 2-.9 2-2V5c0-1.1-.9-2-2-2zM9 17H7v-7h2v7zm4 0h-2V7h2v10zm4 0h-2v-4h2v4z\"/>\n",
              "    </g>\n",
              "</svg>\n",
              "  </button>\n",
              "\n",
              "<style>\n",
              "  .colab-df-quickchart {\n",
              "      --bg-color: #E8F0FE;\n",
              "      --fill-color: #1967D2;\n",
              "      --hover-bg-color: #E2EBFA;\n",
              "      --hover-fill-color: #174EA6;\n",
              "      --disabled-fill-color: #AAA;\n",
              "      --disabled-bg-color: #DDD;\n",
              "  }\n",
              "\n",
              "  [theme=dark] .colab-df-quickchart {\n",
              "      --bg-color: #3B4455;\n",
              "      --fill-color: #D2E3FC;\n",
              "      --hover-bg-color: #434B5C;\n",
              "      --hover-fill-color: #FFFFFF;\n",
              "      --disabled-bg-color: #3B4455;\n",
              "      --disabled-fill-color: #666;\n",
              "  }\n",
              "\n",
              "  .colab-df-quickchart {\n",
              "    background-color: var(--bg-color);\n",
              "    border: none;\n",
              "    border-radius: 50%;\n",
              "    cursor: pointer;\n",
              "    display: none;\n",
              "    fill: var(--fill-color);\n",
              "    height: 32px;\n",
              "    padding: 0;\n",
              "    width: 32px;\n",
              "  }\n",
              "\n",
              "  .colab-df-quickchart:hover {\n",
              "    background-color: var(--hover-bg-color);\n",
              "    box-shadow: 0 1px 2px rgba(60, 64, 67, 0.3), 0 1px 3px 1px rgba(60, 64, 67, 0.15);\n",
              "    fill: var(--button-hover-fill-color);\n",
              "  }\n",
              "\n",
              "  .colab-df-quickchart-complete:disabled,\n",
              "  .colab-df-quickchart-complete:disabled:hover {\n",
              "    background-color: var(--disabled-bg-color);\n",
              "    fill: var(--disabled-fill-color);\n",
              "    box-shadow: none;\n",
              "  }\n",
              "\n",
              "  .colab-df-spinner {\n",
              "    border: 2px solid var(--fill-color);\n",
              "    border-color: transparent;\n",
              "    border-bottom-color: var(--fill-color);\n",
              "    animation:\n",
              "      spin 1s steps(1) infinite;\n",
              "  }\n",
              "\n",
              "  @keyframes spin {\n",
              "    0% {\n",
              "      border-color: transparent;\n",
              "      border-bottom-color: var(--fill-color);\n",
              "      border-left-color: var(--fill-color);\n",
              "    }\n",
              "    20% {\n",
              "      border-color: transparent;\n",
              "      border-left-color: var(--fill-color);\n",
              "      border-top-color: var(--fill-color);\n",
              "    }\n",
              "    30% {\n",
              "      border-color: transparent;\n",
              "      border-left-color: var(--fill-color);\n",
              "      border-top-color: var(--fill-color);\n",
              "      border-right-color: var(--fill-color);\n",
              "    }\n",
              "    40% {\n",
              "      border-color: transparent;\n",
              "      border-right-color: var(--fill-color);\n",
              "      border-top-color: var(--fill-color);\n",
              "    }\n",
              "    60% {\n",
              "      border-color: transparent;\n",
              "      border-right-color: var(--fill-color);\n",
              "    }\n",
              "    80% {\n",
              "      border-color: transparent;\n",
              "      border-right-color: var(--fill-color);\n",
              "      border-bottom-color: var(--fill-color);\n",
              "    }\n",
              "    90% {\n",
              "      border-color: transparent;\n",
              "      border-bottom-color: var(--fill-color);\n",
              "    }\n",
              "  }\n",
              "</style>\n",
              "\n",
              "  <script>\n",
              "    async function quickchart(key) {\n",
              "      const quickchartButtonEl =\n",
              "        document.querySelector('#' + key + ' button');\n",
              "      quickchartButtonEl.disabled = true;  // To prevent multiple clicks.\n",
              "      quickchartButtonEl.classList.add('colab-df-spinner');\n",
              "      try {\n",
              "        const charts = await google.colab.kernel.invokeFunction(\n",
              "            'suggestCharts', [key], {});\n",
              "      } catch (error) {\n",
              "        console.error('Error during call to suggestCharts:', error);\n",
              "      }\n",
              "      quickchartButtonEl.classList.remove('colab-df-spinner');\n",
              "      quickchartButtonEl.classList.add('colab-df-quickchart-complete');\n",
              "    }\n",
              "    (() => {\n",
              "      let quickchartButtonEl =\n",
              "        document.querySelector('#df-07c284c6-a034-41cf-824b-0b32b71fcffd button');\n",
              "      quickchartButtonEl.style.display =\n",
              "        google.colab.kernel.accessAllowed ? 'block' : 'none';\n",
              "    })();\n",
              "  </script>\n",
              "</div>\n",
              "\n",
              "    </div>\n",
              "  </div>\n"
            ],
            "application/vnd.google.colaboratory.intrinsic+json": {
              "type": "dataframe",
              "variable_name": "data",
              "summary": "{\n  \"name\": \"data\",\n  \"rows\": 306,\n  \"fields\": [\n    {\n      \"column\": \"date\",\n      \"properties\": {\n        \"dtype\": \"object\",\n        \"num_unique_values\": 306,\n        \"samples\": [\n          \"7/1/93\",\n          \"7/1/86\",\n          \"10/1/75\"\n        ],\n        \"semantic_type\": \"\",\n        \"description\": \"\"\n      }\n    },\n    {\n      \"column\": \"GDP_growth\",\n      \"properties\": {\n        \"dtype\": \"number\",\n        \"std\": 7601.813647823699,\n        \"min\": 265.742,\n        \"max\": 29016.714,\n        \"num_unique_values\": 306,\n        \"samples\": [\n          6882.098,\n          4607.669,\n          1761.831\n        ],\n        \"semantic_type\": \"\",\n        \"description\": \"\"\n      }\n    },\n    {\n      \"column\": \"unemployment_rate\",\n      \"properties\": {\n        \"dtype\": \"number\",\n        \"std\": 1.7462209429792517,\n        \"min\": 2.6,\n        \"max\": 14.8,\n        \"num_unique_values\": 70,\n        \"samples\": [\n          4.7,\n          3.4,\n          6.4\n        ],\n        \"semantic_type\": \"\",\n        \"description\": \"\"\n      }\n    },\n    {\n      \"column\": \"inflation_rate\",\n      \"properties\": {\n        \"dtype\": \"number\",\n        \"std\": 85.70908791214966,\n        \"min\": 23.51,\n        \"max\": 313.207,\n        \"num_unique_values\": 303,\n        \"samples\": [\n          144.5,\n          199.1,\n          57.0\n        ],\n        \"semantic_type\": \"\",\n        \"description\": \"\"\n      }\n    }\n  ]\n}"
            }
          },
          "metadata": {},
          "execution_count": 2
        }
      ],
      "source": [
        "data = pd.read_csv('/content/merged_economic_data.csv')  # Make sure the path matches your file's name\n",
        "data.head()\n"
      ]
    },
    {
      "cell_type": "markdown",
      "source": [
        "**Explanation:**\n",
        "\n",
        "Reads the CSV file and shows the first few rows to confirm the data has been loaded correctly.\n"
      ],
      "metadata": {
        "id": "PIwB-ovmoFSj"
      }
    },
    {
      "cell_type": "markdown",
      "source": [
        "# **STEP 3: Data Exploration and Preprocessing**\n",
        "\n"
      ],
      "metadata": {
        "id": "obGdzZXUomi_"
      }
    },
    {
      "cell_type": "markdown",
      "source": [
        "### **3.1 Explore the Dataset**"
      ],
      "metadata": {
        "id": "hqfJIk0HuMVq"
      }
    },
    {
      "cell_type": "code",
      "source": [
        "data.info()\n"
      ],
      "metadata": {
        "colab": {
          "base_uri": "https://localhost:8080/"
        },
        "id": "oMF13xIUo49-",
        "outputId": "a03d161e-7c8f-4049-96a6-761f29b125f9"
      },
      "execution_count": null,
      "outputs": [
        {
          "output_type": "stream",
          "name": "stdout",
          "text": [
            "<class 'pandas.core.frame.DataFrame'>\n",
            "RangeIndex: 306 entries, 0 to 305\n",
            "Data columns (total 4 columns):\n",
            " #   Column             Non-Null Count  Dtype  \n",
            "---  ------             --------------  -----  \n",
            " 0   date               306 non-null    object \n",
            " 1   GDP_growth         306 non-null    float64\n",
            " 2   unemployment_rate  306 non-null    float64\n",
            " 3   inflation_rate     306 non-null    float64\n",
            "dtypes: float64(3), object(1)\n",
            "memory usage: 9.7+ KB\n"
          ]
        }
      ]
    },
    {
      "cell_type": "markdown",
      "source": [
        "**Explanation:**\n",
        "\n",
        "Shows the data types and if there are any missing values."
      ],
      "metadata": {
        "id": "PbZtLbfAo-Xl"
      }
    },
    {
      "cell_type": "code",
      "source": [
        "data.describe()"
      ],
      "metadata": {
        "colab": {
          "base_uri": "https://localhost:8080/",
          "height": 300
        },
        "id": "O48qn4sYqY2W",
        "outputId": "5f885d59-6635-4099-ee92-dfaab729f94a"
      },
      "execution_count": null,
      "outputs": [
        {
          "output_type": "execute_result",
          "data": {
            "text/plain": [
              "         GDP_growth  unemployment_rate  inflation_rate\n",
              "count    306.000000         306.000000      306.000000\n",
              "mean    7401.215232           5.707516      121.237892\n",
              "std     7601.813648           1.746221       85.709088\n",
              "min      265.742000           2.600000       23.510000\n",
              "25%      845.373250           4.400000       32.950000\n",
              "50%     4526.617000           5.500000      109.100000\n",
              "75%    12883.813500           6.700000      193.175000\n",
              "max    29016.714000          14.800000      313.207000"
            ],
            "text/html": [
              "\n",
              "  <div id=\"df-243df2b2-a696-4421-85aa-ed9fcc0c089b\" class=\"colab-df-container\">\n",
              "    <div>\n",
              "<style scoped>\n",
              "    .dataframe tbody tr th:only-of-type {\n",
              "        vertical-align: middle;\n",
              "    }\n",
              "\n",
              "    .dataframe tbody tr th {\n",
              "        vertical-align: top;\n",
              "    }\n",
              "\n",
              "    .dataframe thead th {\n",
              "        text-align: right;\n",
              "    }\n",
              "</style>\n",
              "<table border=\"1\" class=\"dataframe\">\n",
              "  <thead>\n",
              "    <tr style=\"text-align: right;\">\n",
              "      <th></th>\n",
              "      <th>GDP_growth</th>\n",
              "      <th>unemployment_rate</th>\n",
              "      <th>inflation_rate</th>\n",
              "    </tr>\n",
              "  </thead>\n",
              "  <tbody>\n",
              "    <tr>\n",
              "      <th>count</th>\n",
              "      <td>306.000000</td>\n",
              "      <td>306.000000</td>\n",
              "      <td>306.000000</td>\n",
              "    </tr>\n",
              "    <tr>\n",
              "      <th>mean</th>\n",
              "      <td>7401.215232</td>\n",
              "      <td>5.707516</td>\n",
              "      <td>121.237892</td>\n",
              "    </tr>\n",
              "    <tr>\n",
              "      <th>std</th>\n",
              "      <td>7601.813648</td>\n",
              "      <td>1.746221</td>\n",
              "      <td>85.709088</td>\n",
              "    </tr>\n",
              "    <tr>\n",
              "      <th>min</th>\n",
              "      <td>265.742000</td>\n",
              "      <td>2.600000</td>\n",
              "      <td>23.510000</td>\n",
              "    </tr>\n",
              "    <tr>\n",
              "      <th>25%</th>\n",
              "      <td>845.373250</td>\n",
              "      <td>4.400000</td>\n",
              "      <td>32.950000</td>\n",
              "    </tr>\n",
              "    <tr>\n",
              "      <th>50%</th>\n",
              "      <td>4526.617000</td>\n",
              "      <td>5.500000</td>\n",
              "      <td>109.100000</td>\n",
              "    </tr>\n",
              "    <tr>\n",
              "      <th>75%</th>\n",
              "      <td>12883.813500</td>\n",
              "      <td>6.700000</td>\n",
              "      <td>193.175000</td>\n",
              "    </tr>\n",
              "    <tr>\n",
              "      <th>max</th>\n",
              "      <td>29016.714000</td>\n",
              "      <td>14.800000</td>\n",
              "      <td>313.207000</td>\n",
              "    </tr>\n",
              "  </tbody>\n",
              "</table>\n",
              "</div>\n",
              "    <div class=\"colab-df-buttons\">\n",
              "\n",
              "  <div class=\"colab-df-container\">\n",
              "    <button class=\"colab-df-convert\" onclick=\"convertToInteractive('df-243df2b2-a696-4421-85aa-ed9fcc0c089b')\"\n",
              "            title=\"Convert this dataframe to an interactive table.\"\n",
              "            style=\"display:none;\">\n",
              "\n",
              "  <svg xmlns=\"http://www.w3.org/2000/svg\" height=\"24px\" viewBox=\"0 -960 960 960\">\n",
              "    <path d=\"M120-120v-720h720v720H120Zm60-500h600v-160H180v160Zm220 220h160v-160H400v160Zm0 220h160v-160H400v160ZM180-400h160v-160H180v160Zm440 0h160v-160H620v160ZM180-180h160v-160H180v160Zm440 0h160v-160H620v160Z\"/>\n",
              "  </svg>\n",
              "    </button>\n",
              "\n",
              "  <style>\n",
              "    .colab-df-container {\n",
              "      display:flex;\n",
              "      gap: 12px;\n",
              "    }\n",
              "\n",
              "    .colab-df-convert {\n",
              "      background-color: #E8F0FE;\n",
              "      border: none;\n",
              "      border-radius: 50%;\n",
              "      cursor: pointer;\n",
              "      display: none;\n",
              "      fill: #1967D2;\n",
              "      height: 32px;\n",
              "      padding: 0 0 0 0;\n",
              "      width: 32px;\n",
              "    }\n",
              "\n",
              "    .colab-df-convert:hover {\n",
              "      background-color: #E2EBFA;\n",
              "      box-shadow: 0px 1px 2px rgba(60, 64, 67, 0.3), 0px 1px 3px 1px rgba(60, 64, 67, 0.15);\n",
              "      fill: #174EA6;\n",
              "    }\n",
              "\n",
              "    .colab-df-buttons div {\n",
              "      margin-bottom: 4px;\n",
              "    }\n",
              "\n",
              "    [theme=dark] .colab-df-convert {\n",
              "      background-color: #3B4455;\n",
              "      fill: #D2E3FC;\n",
              "    }\n",
              "\n",
              "    [theme=dark] .colab-df-convert:hover {\n",
              "      background-color: #434B5C;\n",
              "      box-shadow: 0px 1px 3px 1px rgba(0, 0, 0, 0.15);\n",
              "      filter: drop-shadow(0px 1px 2px rgba(0, 0, 0, 0.3));\n",
              "      fill: #FFFFFF;\n",
              "    }\n",
              "  </style>\n",
              "\n",
              "    <script>\n",
              "      const buttonEl =\n",
              "        document.querySelector('#df-243df2b2-a696-4421-85aa-ed9fcc0c089b button.colab-df-convert');\n",
              "      buttonEl.style.display =\n",
              "        google.colab.kernel.accessAllowed ? 'block' : 'none';\n",
              "\n",
              "      async function convertToInteractive(key) {\n",
              "        const element = document.querySelector('#df-243df2b2-a696-4421-85aa-ed9fcc0c089b');\n",
              "        const dataTable =\n",
              "          await google.colab.kernel.invokeFunction('convertToInteractive',\n",
              "                                                    [key], {});\n",
              "        if (!dataTable) return;\n",
              "\n",
              "        const docLinkHtml = 'Like what you see? Visit the ' +\n",
              "          '<a target=\"_blank\" href=https://colab.research.google.com/notebooks/data_table.ipynb>data table notebook</a>'\n",
              "          + ' to learn more about interactive tables.';\n",
              "        element.innerHTML = '';\n",
              "        dataTable['output_type'] = 'display_data';\n",
              "        await google.colab.output.renderOutput(dataTable, element);\n",
              "        const docLink = document.createElement('div');\n",
              "        docLink.innerHTML = docLinkHtml;\n",
              "        element.appendChild(docLink);\n",
              "      }\n",
              "    </script>\n",
              "  </div>\n",
              "\n",
              "\n",
              "<div id=\"df-46f4d20d-83e4-4421-a8bc-0d29c0fad6b3\">\n",
              "  <button class=\"colab-df-quickchart\" onclick=\"quickchart('df-46f4d20d-83e4-4421-a8bc-0d29c0fad6b3')\"\n",
              "            title=\"Suggest charts\"\n",
              "            style=\"display:none;\">\n",
              "\n",
              "<svg xmlns=\"http://www.w3.org/2000/svg\" height=\"24px\"viewBox=\"0 0 24 24\"\n",
              "     width=\"24px\">\n",
              "    <g>\n",
              "        <path d=\"M19 3H5c-1.1 0-2 .9-2 2v14c0 1.1.9 2 2 2h14c1.1 0 2-.9 2-2V5c0-1.1-.9-2-2-2zM9 17H7v-7h2v7zm4 0h-2V7h2v10zm4 0h-2v-4h2v4z\"/>\n",
              "    </g>\n",
              "</svg>\n",
              "  </button>\n",
              "\n",
              "<style>\n",
              "  .colab-df-quickchart {\n",
              "      --bg-color: #E8F0FE;\n",
              "      --fill-color: #1967D2;\n",
              "      --hover-bg-color: #E2EBFA;\n",
              "      --hover-fill-color: #174EA6;\n",
              "      --disabled-fill-color: #AAA;\n",
              "      --disabled-bg-color: #DDD;\n",
              "  }\n",
              "\n",
              "  [theme=dark] .colab-df-quickchart {\n",
              "      --bg-color: #3B4455;\n",
              "      --fill-color: #D2E3FC;\n",
              "      --hover-bg-color: #434B5C;\n",
              "      --hover-fill-color: #FFFFFF;\n",
              "      --disabled-bg-color: #3B4455;\n",
              "      --disabled-fill-color: #666;\n",
              "  }\n",
              "\n",
              "  .colab-df-quickchart {\n",
              "    background-color: var(--bg-color);\n",
              "    border: none;\n",
              "    border-radius: 50%;\n",
              "    cursor: pointer;\n",
              "    display: none;\n",
              "    fill: var(--fill-color);\n",
              "    height: 32px;\n",
              "    padding: 0;\n",
              "    width: 32px;\n",
              "  }\n",
              "\n",
              "  .colab-df-quickchart:hover {\n",
              "    background-color: var(--hover-bg-color);\n",
              "    box-shadow: 0 1px 2px rgba(60, 64, 67, 0.3), 0 1px 3px 1px rgba(60, 64, 67, 0.15);\n",
              "    fill: var(--button-hover-fill-color);\n",
              "  }\n",
              "\n",
              "  .colab-df-quickchart-complete:disabled,\n",
              "  .colab-df-quickchart-complete:disabled:hover {\n",
              "    background-color: var(--disabled-bg-color);\n",
              "    fill: var(--disabled-fill-color);\n",
              "    box-shadow: none;\n",
              "  }\n",
              "\n",
              "  .colab-df-spinner {\n",
              "    border: 2px solid var(--fill-color);\n",
              "    border-color: transparent;\n",
              "    border-bottom-color: var(--fill-color);\n",
              "    animation:\n",
              "      spin 1s steps(1) infinite;\n",
              "  }\n",
              "\n",
              "  @keyframes spin {\n",
              "    0% {\n",
              "      border-color: transparent;\n",
              "      border-bottom-color: var(--fill-color);\n",
              "      border-left-color: var(--fill-color);\n",
              "    }\n",
              "    20% {\n",
              "      border-color: transparent;\n",
              "      border-left-color: var(--fill-color);\n",
              "      border-top-color: var(--fill-color);\n",
              "    }\n",
              "    30% {\n",
              "      border-color: transparent;\n",
              "      border-left-color: var(--fill-color);\n",
              "      border-top-color: var(--fill-color);\n",
              "      border-right-color: var(--fill-color);\n",
              "    }\n",
              "    40% {\n",
              "      border-color: transparent;\n",
              "      border-right-color: var(--fill-color);\n",
              "      border-top-color: var(--fill-color);\n",
              "    }\n",
              "    60% {\n",
              "      border-color: transparent;\n",
              "      border-right-color: var(--fill-color);\n",
              "    }\n",
              "    80% {\n",
              "      border-color: transparent;\n",
              "      border-right-color: var(--fill-color);\n",
              "      border-bottom-color: var(--fill-color);\n",
              "    }\n",
              "    90% {\n",
              "      border-color: transparent;\n",
              "      border-bottom-color: var(--fill-color);\n",
              "    }\n",
              "  }\n",
              "</style>\n",
              "\n",
              "  <script>\n",
              "    async function quickchart(key) {\n",
              "      const quickchartButtonEl =\n",
              "        document.querySelector('#' + key + ' button');\n",
              "      quickchartButtonEl.disabled = true;  // To prevent multiple clicks.\n",
              "      quickchartButtonEl.classList.add('colab-df-spinner');\n",
              "      try {\n",
              "        const charts = await google.colab.kernel.invokeFunction(\n",
              "            'suggestCharts', [key], {});\n",
              "      } catch (error) {\n",
              "        console.error('Error during call to suggestCharts:', error);\n",
              "      }\n",
              "      quickchartButtonEl.classList.remove('colab-df-spinner');\n",
              "      quickchartButtonEl.classList.add('colab-df-quickchart-complete');\n",
              "    }\n",
              "    (() => {\n",
              "      let quickchartButtonEl =\n",
              "        document.querySelector('#df-46f4d20d-83e4-4421-a8bc-0d29c0fad6b3 button');\n",
              "      quickchartButtonEl.style.display =\n",
              "        google.colab.kernel.accessAllowed ? 'block' : 'none';\n",
              "    })();\n",
              "  </script>\n",
              "</div>\n",
              "\n",
              "    </div>\n",
              "  </div>\n"
            ],
            "application/vnd.google.colaboratory.intrinsic+json": {
              "type": "dataframe",
              "summary": "{\n  \"name\": \"data\",\n  \"rows\": 8,\n  \"fields\": [\n    {\n      \"column\": \"GDP_growth\",\n      \"properties\": {\n        \"dtype\": \"number\",\n        \"std\": 9622.699060771467,\n        \"min\": 265.742,\n        \"max\": 29016.714,\n        \"num_unique_values\": 8,\n        \"samples\": [\n          7401.215232026144,\n          4526.617,\n          306.0\n        ],\n        \"semantic_type\": \"\",\n        \"description\": \"\"\n      }\n    },\n    {\n      \"column\": \"unemployment_rate\",\n      \"properties\": {\n        \"dtype\": \"number\",\n        \"std\": 106.16793475189219,\n        \"min\": 1.7462209429792517,\n        \"max\": 306.0,\n        \"num_unique_values\": 8,\n        \"samples\": [\n          5.70751633986928,\n          5.5,\n          306.0\n        ],\n        \"semantic_type\": \"\",\n        \"description\": \"\"\n      }\n    },\n    {\n      \"column\": \"inflation_rate\",\n      \"properties\": {\n        \"dtype\": \"number\",\n        \"std\": 112.84747951691801,\n        \"min\": 23.51,\n        \"max\": 313.207,\n        \"num_unique_values\": 8,\n        \"samples\": [\n          121.23789215686274,\n          109.1,\n          306.0\n        ],\n        \"semantic_type\": \"\",\n        \"description\": \"\"\n      }\n    }\n  ]\n}"
            }
          },
          "metadata": {},
          "execution_count": 4
        }
      ]
    },
    {
      "cell_type": "markdown",
      "source": [
        "**Explanation:**\n",
        "\n",
        "To see basic statistics."
      ],
      "metadata": {
        "id": "m1AtcA7qqbxF"
      }
    },
    {
      "cell_type": "markdown",
      "source": [
        "### **3.2 Data Cleaning**\n",
        "\n"
      ],
      "metadata": {
        "id": "WpyhkLyVr6w1"
      }
    },
    {
      "cell_type": "code",
      "source": [
        "# Check the initial number of rows\n",
        "initial_rows = data.shape[0]\n",
        "\n",
        "# Drop rows with missing values\n",
        "data = data.dropna()\n",
        "\n",
        "# Check the number of rows after dropping missing values\n",
        "final_rows = data.shape[0]\n",
        "\n",
        "# Print a summary message\n",
        "print(f'Data cleaning completed. {initial_rows - final_rows} rows with missing values were removed. Total rows remaining: {final_rows}.')\n"
      ],
      "metadata": {
        "id": "dnvVt_G6qrK1",
        "colab": {
          "base_uri": "https://localhost:8080/"
        },
        "outputId": "a30f9775-ec4c-426e-e490-de98681ec5ae"
      },
      "execution_count": null,
      "outputs": [
        {
          "output_type": "stream",
          "name": "stdout",
          "text": [
            "Data cleaning completed. 0 rows with missing values were removed. Total rows remaining: 306.\n"
          ]
        }
      ]
    },
    {
      "cell_type": "markdown",
      "source": [
        "**Explanation:**\n",
        "\n",
        "Removes any rows where there are missing values.\n",
        "\n",
        "initial_rows: Captures the number of rows before removing any missing values.\n",
        "\n",
        "final_rows: Captures the number of rows after dropping missing values.\n",
        "\n",
        "The print statement provides a clear message indicating:\n",
        "\n",
        "The number of rows removed.\n",
        "\n",
        "The total number of rows remaining in the dataset after cleaning."
      ],
      "metadata": {
        "id": "-Mfyio1yr9qg"
      }
    },
    {
      "cell_type": "markdown",
      "source": [
        "### **3.3 Feature Selection**\n",
        "\n",
        "Identify the columns (features) that you’ll use for prediction.\n",
        "\n",
        "For example, we might want to predict GDP growth (GDP_growth) using the unemployment rate (unemployment_rate) and inflation rate (inflation_rate):"
      ],
      "metadata": {
        "id": "T5_Gs5cPsZnI"
      }
    },
    {
      "cell_type": "code",
      "source": [
        "# Define the features and target variable\n",
        "features = ['unemployment_rate', 'inflation_rate']\n",
        "target = 'GDP_growth'\n",
        "\n",
        "# Create the feature set (X) and target (y)\n",
        "X = data[features]\n",
        "y = data[target]\n",
        "\n",
        "# Print a summary message\n",
        "print(f'Feature selection completed. Selected features: {features}.')\n",
        "print(f'Feature set shape: {X.shape}. Target variable shape: {y.shape}.')\n",
        "\n"
      ],
      "metadata": {
        "id": "F4NdYWSNsgev",
        "colab": {
          "base_uri": "https://localhost:8080/"
        },
        "outputId": "6efc07a2-d615-42ae-e55d-4ad901c5cb1a"
      },
      "execution_count": null,
      "outputs": [
        {
          "output_type": "stream",
          "name": "stdout",
          "text": [
            "Feature selection completed. Selected features: ['unemployment_rate', 'inflation_rate'].\n",
            "Feature set shape: (306, 2). Target variable shape: (306,).\n"
          ]
        }
      ]
    },
    {
      "cell_type": "markdown",
      "source": [
        "**Explanation:**\n",
        "\n",
        "features: Lists the selected columns used for prediction.\n",
        "\n",
        "X = data[features]: Creates a new DataFrame containing only the selected feature columns. X is the input features (what we use to predict).\n",
        "\n",
        "y = data[target]: Defines the target variable. (what we want to predict).\n",
        "\n",
        "The **print** statements provide:\n",
        "\n",
        "Confirmation of the selected features.\n",
        "\n",
        "The shape of the feature set (X.shape), indicating how many rows and columns are now included.\n",
        "\n",
        "The shape of the target variable (y.shape), showing how many rows it contains."
      ],
      "metadata": {
        "id": "VDjXwiCRshxn"
      }
    },
    {
      "cell_type": "markdown",
      "source": [
        "# **Step 4: Building the Supervised Learning Model**"
      ],
      "metadata": {
        "id": "DcbSzhcgoHbi"
      }
    },
    {
      "cell_type": "markdown",
      "source": [
        "### **4.1 Splitting the Dataset**"
      ],
      "metadata": {
        "id": "MJZeULz-vF6H"
      }
    },
    {
      "cell_type": "markdown",
      "source": [
        "Split the data into training and testing sets"
      ],
      "metadata": {
        "id": "fYrJeVqh0b5H"
      }
    },
    {
      "cell_type": "code",
      "source": [
        "from sklearn.model_selection import train_test_split\n",
        "\n",
        "# Split the dataset into training and testing sets\n",
        "X_train, X_test, y_train, y_test = train_test_split(X, y, test_size=0.2, random_state=42)\n",
        "\n",
        "# Print a summary message\n",
        "print(f'Dataset splitting completed.')\n",
        "print(f'Training set shape: X_train: {X_train.shape}, y_train: {y_train.shape}')\n",
        "print(f'Testing set shape: X_test: {X_test.shape}, y_test: {y_test.shape}')\n",
        "\n"
      ],
      "metadata": {
        "id": "a2m5BGjmvPpg",
        "colab": {
          "base_uri": "https://localhost:8080/"
        },
        "outputId": "934e072d-9f2c-4af3-c62f-1ec7bb7d70d0"
      },
      "execution_count": null,
      "outputs": [
        {
          "output_type": "stream",
          "name": "stdout",
          "text": [
            "Dataset splitting completed.\n",
            "Training set shape: X_train: (244, 2), y_train: (244,)\n",
            "Testing set shape: X_test: (62, 2), y_test: (62,)\n"
          ]
        }
      ]
    },
    {
      "cell_type": "markdown",
      "source": [
        "**Explanation:**\n",
        "\n",
        "X_train and y_train: Data used to train the model (80% of the dataset).\n",
        "\n",
        "X_test and y_test: Data used to test the model (20% of the dataset).\n",
        "\n",
        "train_test_split(X, y, test_size=0.2, random_state=42): Splits the dataset into training (80%) and testing (20%) sets.\n",
        "\n",
        "X_train, y_train: Feature and target variables for the training set.\n",
        "\n",
        "X_test, y_test: Feature and target variables for the testing set.\n",
        "\n",
        "The **print** statements provide:\n",
        "\n",
        "Confirmation that the dataset has been split successfully.\n",
        "\n",
        "The shapes of the training and testing sets, showing how many rows (samples) and columns (features) are included in each part."
      ],
      "metadata": {
        "id": "CJ9ZP2e3vThc"
      }
    },
    {
      "cell_type": "markdown",
      "source": [
        "### **4.2 Training the Model**"
      ],
      "metadata": {
        "id": "UGmCLhN8vk9z"
      }
    },
    {
      "cell_type": "markdown",
      "source": [
        "Create an instance of the Linear Regression model and train it using the training data."
      ],
      "metadata": {
        "id": "bSQQrGcb0VVH"
      }
    },
    {
      "cell_type": "code",
      "source": [
        "from sklearn.linear_model import LinearRegression\n",
        "\n",
        "# Initialize the Linear Regression model\n",
        "model = LinearRegression()\n",
        "\n",
        "# Train the model using the training data\n",
        "model.fit(X_train, y_train)\n",
        "\n",
        "# Print a summary message\n",
        "print('Model training completed successfully.')\n",
        "print(f'Coefficients: {model.coef_}')\n",
        "print(f'Intercept: {model.intercept_}')\n",
        "\n"
      ],
      "metadata": {
        "colab": {
          "base_uri": "https://localhost:8080/"
        },
        "id": "6rv0smGpvwIW",
        "outputId": "e6ecb3dc-5f66-4d4f-fe88-b33615526072"
      },
      "execution_count": null,
      "outputs": [
        {
          "output_type": "stream",
          "name": "stdout",
          "text": [
            "Model training completed successfully.\n",
            "Coefficients: [-408.30703328   87.71705924]\n",
            "Intercept: -945.9764789910014\n"
          ]
        }
      ]
    },
    {
      "cell_type": "markdown",
      "source": [
        "**Explanation:**\n",
        "\n",
        "model.fit(X_train, y_train): Trains the model using the training data (X_train and y_train).\n",
        "\n",
        "The **print** statements provide:\n",
        "\n",
        "Confirmation that the model has been trained.\n",
        "\n",
        "The coefficients (model.coef_) indicate the relationship between each feature and the target variable.\n",
        "\n",
        "The intercept (model.intercept_) is the point where the regression line crosses the y-axis when all feature values are zero."
      ],
      "metadata": {
        "id": "T4rqkbAOv2yS"
      }
    },
    {
      "cell_type": "markdown",
      "source": [
        "### **4.3 Making Predictions**"
      ],
      "metadata": {
        "id": "yT1_U6gawEVI"
      }
    },
    {
      "cell_type": "markdown",
      "source": [
        "Using the model to make predictions on the test data."
      ],
      "metadata": {
        "id": "oLShEKyM0Q_l"
      }
    },
    {
      "cell_type": "code",
      "source": [
        "# Make predictions on the test set\n",
        "predictions = model.predict(X_test)\n",
        "\n",
        "# Print a summary message\n",
        "print('Predictions completed.')\n",
        "print('First 5 predictions:', predictions[:5])\n",
        "print('First 5 actual values:', y_test.values[:5])\n",
        "\n"
      ],
      "metadata": {
        "id": "5pP3QOQ8wR_M",
        "colab": {
          "base_uri": "https://localhost:8080/"
        },
        "outputId": "ab62bce1-903c-40de-9eec-275e455f5734"
      },
      "execution_count": null,
      "outputs": [
        {
          "output_type": "stream",
          "name": "stdout",
          "text": [
            "Predictions completed.\n",
            "First 5 predictions: [ 8911.82005224  5800.89227535   439.910994   11593.46788145\n",
            "  -603.21928527]\n",
            "First 5 actual values: [6882.098 4607.669 1761.831 9293.991  621.672]\n"
          ]
        }
      ]
    },
    {
      "cell_type": "markdown",
      "source": [
        "**Explanation:**\n",
        "\n",
        "This code predicts GDP growth using the test set and stores the predictions in the variable predictions.\n",
        "\n",
        "model.predict(X_test): Uses the trained model to predict the target values based on the features in the test set (X_test).\n",
        "\n",
        "The **print** statements provide:\n",
        "\n",
        "Confirmation that the prediction process has been completed.\n",
        "The first 5 predicted values (predictions[:5]) to show a sample of the output from the model.\n",
        "\n",
        "The first 5 actual values from y_test to compare with the predicted values, helping to visualize how close the predictions are to the actual values."
      ],
      "metadata": {
        "id": "45BkjIOlwWzG"
      }
    },
    {
      "cell_type": "markdown",
      "source": [
        "# **Step 5: Evaluating the Model**"
      ],
      "metadata": {
        "id": "TQeE6ZwHwnsP"
      }
    },
    {
      "cell_type": "markdown",
      "source": [
        "### **5.1 Calculate Performance Metrics**"
      ],
      "metadata": {
        "id": "nLo8EiasynW9"
      }
    },
    {
      "cell_type": "markdown",
      "source": [
        "Measure how well the model performs using R-squared and Mean Squared Error (MSE)"
      ],
      "metadata": {
        "id": "dczDkGcE0IVW"
      }
    },
    {
      "cell_type": "code",
      "source": [
        "r2 = r2_score(y_test, predictions)\n",
        "mse = mean_squared_error(y_test, predictions)\n",
        "print(f'R-squared: {r2}')\n",
        "print(f'Mean Squared Error: {mse}')\n"
      ],
      "metadata": {
        "colab": {
          "base_uri": "https://localhost:8080/"
        },
        "id": "6v-Ny6GywyGc",
        "outputId": "d87ecccf-a1de-4d2b-99dd-334540e9ad04"
      },
      "execution_count": null,
      "outputs": [
        {
          "output_type": "stream",
          "name": "stdout",
          "text": [
            "R-squared: 0.9625237322367607\n",
            "Mean Squared Error: 2220126.7144579315\n"
          ]
        }
      ]
    },
    {
      "cell_type": "markdown",
      "source": [
        "**Explanation:**\n",
        "\n",
        "R-squared tells us how much of the variation in GDP growth the model explains. The closer it is to 1, the better.\n",
        "\n",
        "MSE measures the average squared differences between predicted and actual values. A lower value indicates a better model."
      ],
      "metadata": {
        "id": "-98DkSI9yafy"
      }
    },
    {
      "cell_type": "markdown",
      "source": [
        "### **5.2 Interpreting the Results**"
      ],
      "metadata": {
        "id": "qeSZYFE-y6ZN"
      }
    },
    {
      "cell_type": "markdown",
      "source": [
        "Look at the values of R-squared and MSE. Discuss with your peers whether these values indicate a good or poor model performance."
      ],
      "metadata": {
        "id": "280Joc-SwP_s"
      }
    },
    {
      "cell_type": "markdown",
      "source": [
        "# **Step 6: Improving the Model**"
      ],
      "metadata": {
        "id": "e5nyZsrezF1g"
      }
    },
    {
      "cell_type": "markdown",
      "source": [
        "### **6.1 Feature Engineering**"
      ],
      "metadata": {
        "id": "sJRcaYCDzM0G"
      }
    },
    {
      "cell_type": "markdown",
      "source": [
        "Add new features that may improve the model’s performance. For example, you might add lag values of the unemployment rate to capture trends."
      ],
      "metadata": {
        "id": "tYJKfrNW0CmG"
      }
    },
    {
      "cell_type": "code",
      "source": [
        "# Add a new feature: Lagged value of the unemployment rate\n",
        "data['unemployment_rate_lag1'] = data['unemployment_rate'].shift(1)\n",
        "\n",
        "# Drop any rows with missing values after creating the lagged feature\n",
        "data = data.dropna()\n",
        "\n",
        "# Update the feature set (X) to include the new feature\n",
        "X = data[['unemployment_rate', 'inflation_rate', 'unemployment_rate_lag1']]\n",
        "\n",
        "# Print a summary message\n",
        "print('Feature engineering completed. New feature \"unemployment_rate_lag1\" added.')\n",
        "print(f'Updated feature set shape: {X.shape}')\n",
        "print('Preview of the modified dataset:')\n",
        "print(X.head())\n",
        "\n"
      ],
      "metadata": {
        "id": "Mq2I7ETezxvf",
        "colab": {
          "base_uri": "https://localhost:8080/"
        },
        "outputId": "639adbda-d47f-46f5-c014-6d2f111c0267"
      },
      "execution_count": null,
      "outputs": [
        {
          "output_type": "stream",
          "name": "stdout",
          "text": [
            "Feature engineering completed. New feature \"unemployment_rate_lag1\" added.\n",
            "Updated feature set shape: (305, 3)\n",
            "Preview of the modified dataset:\n",
            "   unemployment_rate  inflation_rate  unemployment_rate_lag1\n",
            "1                3.9           23.82                     3.4\n",
            "2                3.6           24.40                     3.9\n",
            "3                3.7           24.31                     3.6\n",
            "4                4.3           24.01                     3.7\n",
            "5                5.3           23.92                     4.3\n"
          ]
        }
      ]
    },
    {
      "cell_type": "markdown",
      "source": [
        "**Explanation:**\n",
        "\n",
        "This code adds a new feature, the lagged unemployment rate, which may provide additional insight.\n",
        "\n",
        "data['unemployment_rate_lag1'] = data['unemployment_rate'].shift(1): Creates a new feature that is the lagged unemployment rate (value from the previous period).\n",
        "\n",
        "data.dropna(): Ensures that any rows with missing values after creating the lagged feature are removed.\n",
        "\n",
        "X is updated to include the new feature, unemployment_rate_lag1, along with the other existing features.\n",
        "\n",
        "The **print** statements provide:\n",
        "\n",
        "Confirmation that the new feature has been added.\n",
        "\n",
        "The shape of the updated feature set (X.shape) to show how many features and rows are included.\n",
        "\n",
        "A preview of the first few rows of the modified dataset to visualize the changes."
      ],
      "metadata": {
        "id": "zKavCWybzy04"
      }
    },
    {
      "cell_type": "markdown",
      "source": [
        "### **6.2 Applying Regularization (Ridge Regression)**"
      ],
      "metadata": {
        "id": "L-XWBvSLzbnf"
      }
    },
    {
      "cell_type": "markdown",
      "source": [
        "Use Ridge regression to see if it improves the model by preventing overfitting."
      ],
      "metadata": {
        "id": "DVvMo9oV0uDb"
      }
    },
    {
      "cell_type": "code",
      "source": [
        "from sklearn.linear_model import Ridge\n",
        "\n",
        "# Create an instance of the Ridge Regression model\n",
        "ridge_model = Ridge(alpha=1.0)\n",
        "\n",
        "# Train (fit) the Ridge model on the training data\n",
        "ridge_model.fit(X_train, y_train)\n",
        "\n",
        "# Print a summary message\n",
        "print('Ridge Regression model training completed with alpha = 1.0.')\n",
        "print(f'Ridge Coefficients: {ridge_model.coef_}')\n",
        "print(f'Ridge Intercept: {ridge_model.intercept_}')\n",
        "\n"
      ],
      "metadata": {
        "id": "ewMc_cHV0vYe",
        "colab": {
          "base_uri": "https://localhost:8080/"
        },
        "outputId": "f4fbf4bb-0a98-4fc3-cda2-b01a1d077ee3"
      },
      "execution_count": null,
      "outputs": [
        {
          "output_type": "stream",
          "name": "stdout",
          "text": [
            "Ridge Regression model training completed with alpha = 1.0.\n",
            "Ridge Coefficients: [-407.75104607   87.71537161]\n",
            "Ridge Intercept: -948.9445487739185\n"
          ]
        }
      ]
    },
    {
      "cell_type": "markdown",
      "source": [
        "**Explanation:**\n",
        "\n",
        "Ridge regression includes a penalty to prevent the model from becoming too complex.\n",
        "\n",
        "Ridge(alpha=1.0): Creates a Ridge Regression model with a regularization strength (alpha) set to 1.0. We can adjust this value to see how different levels of regularization affect the model.\n",
        "\n",
        "ridge_model.fit(X_train, y_train): Trains the Ridge Regression model using the training data.\n",
        "\n",
        "The **print** statements provide:\n",
        "\n",
        "Confirmation that the Ridge model has been trained with the specified alpha value.\n",
        "\n",
        "The coefficients (ridge_model.coef_) showing the impact of each feature after regularization.\n",
        "\n",
        "The intercept (ridge_model.intercept_) of the Ridge model."
      ],
      "metadata": {
        "id": "eo48qdt-0x4Q"
      }
    },
    {
      "cell_type": "markdown",
      "source": [
        "### **6.3 Cross-Validation**"
      ],
      "metadata": {
        "id": "bQHZKzSPzpEU"
      }
    },
    {
      "cell_type": "markdown",
      "source": [
        "Use cross-validation to validate the model’s robustness."
      ],
      "metadata": {
        "id": "dEmv5mdC09Ot"
      }
    },
    {
      "cell_type": "code",
      "source": [
        "from sklearn.model_selection import cross_val_score\n",
        "from sklearn.linear_model import LinearRegression\n",
        "import pandas as pd\n",
        "\n",
        "# Make sure X and y are properly set up with no missing values and are numeric\n",
        "X = data[['unemployment_rate', 'inflation_rate']].dropna()\n",
        "y = data['GDP_growth'].dropna()\n",
        "\n",
        "# Initialize the model\n",
        "model = LinearRegression()\n",
        "\n",
        "# Apply cross-validation\n",
        "scores = cross_val_score(model, X, y, cv=5)\n",
        "print(f'Cross-validation scores: {scores}')\n",
        "print(f'Average Cross-validation score: {scores.mean()}')\n",
        "\n",
        "\n"
      ],
      "metadata": {
        "colab": {
          "base_uri": "https://localhost:8080/"
        },
        "id": "witkKi0p0-vQ",
        "outputId": "98c84a5f-7509-48c3-ce47-3993fe4adf7c"
      },
      "execution_count": null,
      "outputs": [
        {
          "output_type": "stream",
          "name": "stdout",
          "text": [
            "Cross-validation scores: [-2.81115621e+02 -3.74136394e+00 -1.07337770e+00 -1.88901208e-01\n",
            " -4.99368292e-01]\n",
            "Average Cross-validation score: -57.32372637115766\n"
          ]
        }
      ]
    },
    {
      "cell_type": "markdown",
      "source": [
        "**Explanation:**\n",
        "\n",
        "Cross-validation helps ensure that the model performs well on different subsets of data."
      ],
      "metadata": {
        "id": "RSE0y1iy1DF5"
      }
    },
    {
      "cell_type": "markdown",
      "source": [
        "# **Step 7: Reflection and Discussion**\n"
      ],
      "metadata": {
        "id": "4uwDp5io1KcY"
      }
    },
    {
      "cell_type": "markdown",
      "source": [
        "**Share Results**\n",
        "\n",
        "Discuss the performance metrics you obtained. Did different features or models (e.g., Ridge) improve the results?\n",
        "\n",
        "**Identify Challenges**\n",
        "\n",
        "Talk about any difficulties you encountered. Did you have trouble with missing values or selecting features?\n",
        "\n",
        "**Applications in Real Life**\n",
        "\n",
        "Reflect on how such models could be useful in predicting economic growth and aiding decision-making in economics."
      ],
      "metadata": {
        "id": "MjAWejVM2QHl"
      }
    },
    {
      "cell_type": "markdown",
      "source": [
        "# **Step 8: Implementing ARIMA and VAR Models**"
      ],
      "metadata": {
        "id": "uDkTOXhwG9xx"
      }
    },
    {
      "cell_type": "markdown",
      "source": [
        "### **8.1 ARIMA Model (for Single Time Series Prediction)**\n",
        "\n",
        "The ARIMA model is suitable when you want to forecast a single time series based on its own past values and potentially other influencing factors (exogenous variables)."
      ],
      "metadata": {
        "id": "CXvAGgVzHFFM"
      }
    },
    {
      "cell_type": "code",
      "source": [
        "# Import the necessary libraries\n",
        "import pandas as pd\n",
        "import numpy as np\n",
        "from statsmodels.tsa.arima.model import ARIMA\n",
        "import matplotlib.pyplot as plt\n",
        "\n",
        "# Load the merged dataset\n",
        "data = pd.read_csv('merged_economic_data.csv')  # Replace with your merged file path\n",
        "\n",
        "# Convert the 'date' column to datetime format\n",
        "data['date'] = pd.to_datetime(data['date'], format='%m/%d/%y')\n",
        "\n",
        "# Sort the dataset by date to ensure it is monotonic\n",
        "data.sort_values('date', inplace=True)\n",
        "\n",
        "# Set the 'date' column as the index\n",
        "data.set_index('date', inplace=True)\n",
        "\n",
        "# Limit the dataset to the most recent 10 years for faster execution (adjust as necessary)\n",
        "recent_data = data.loc[data.index >= data.index[-1] - pd.DateOffset(years=10)]\n",
        "\n",
        "# Infer and set the frequency if possible\n",
        "recent_data = recent_data.asfreq(pd.infer_freq(recent_data.index))\n",
        "\n",
        "# Fill missing values in the dataset using interpolation\n",
        "recent_data.interpolate(method='linear', inplace=True)\n",
        "\n",
        "# Select the target variable (e.g., GDP) and optionally any other variables as exogenous variables\n",
        "target = 'GDP_growth'\n",
        "# Note: For simplicity, we run ARIMA without exogenous variables\n",
        "y = recent_data[target]\n",
        "\n",
        "# Fit a very simple ARIMA model (ARIMA(0, 1, 1)) for faster execution\n",
        "arima_model = ARIMA(y, order=(0, 1, 1))\n",
        "arima_result = arima_model.fit()\n",
        "\n",
        "# Print the model summary\n",
        "print(arima_result.summary())\n",
        "\n",
        "# Forecast future values\n",
        "forecast_steps = 12  # Forecast for the next 12 periods (e.g., quarters)\n",
        "forecast = arima_result.get_forecast(steps=forecast_steps)\n",
        "forecast_ci = forecast.conf_int()\n",
        "\n",
        "# Plot the actual values\n",
        "plt.figure(figsize=(10, 6))\n",
        "plt.plot(y, label='Actual')\n",
        "plt.title('Optimized ARIMA Model - GDP Forecast (Recent Data)')\n",
        "plt.xlabel('Date')\n",
        "plt.ylabel('GDP Growth')\n",
        "plt.legend()\n",
        "plt.show()\n",
        "\n",
        "# Plot the forecast separately for better visibility\n",
        "plt.figure(figsize=(10, 6))\n",
        "plt.plot(forecast.predicted_mean, label='Forecast', color='red')\n",
        "plt.fill_between(forecast_ci.index, forecast_ci.iloc[:, 0], forecast_ci.iloc[:, 1], color='pink', alpha=0.3)\n",
        "plt.title('Forecasted GDP Growth')\n",
        "plt.xlabel('Date')\n",
        "plt.ylabel('GDP Growth')\n",
        "plt.legend()\n",
        "plt.show()\n"
      ],
      "metadata": {
        "colab": {
          "base_uri": "https://localhost:8080/",
          "height": 1000
        },
        "id": "6DSOexnzG8WL",
        "outputId": "c098764f-3b6e-475c-9983-7f251426066e"
      },
      "execution_count": null,
      "outputs": [
        {
          "output_type": "stream",
          "name": "stdout",
          "text": [
            "                               SARIMAX Results                                \n",
            "==============================================================================\n",
            "Dep. Variable:             GDP_growth   No. Observations:                   41\n",
            "Model:                 ARIMA(0, 1, 1)   Log Likelihood                -151.224\n",
            "Date:                Wed, 16 Oct 2024   AIC                            306.448\n",
            "Time:                        21:12:03   BIC                            309.826\n",
            "Sample:                    10-01-2058   HQIC                           307.669\n",
            "                         - 10-01-2068                                         \n",
            "Covariance Type:                  opg                                         \n",
            "==============================================================================\n",
            "                 coef    std err          z      P>|z|      [0.025      0.975]\n",
            "------------------------------------------------------------------------------\n",
            "ma.L1          0.5133      0.169      3.034      0.002       0.182       0.845\n",
            "sigma2       111.6927     33.126      3.372      0.001      46.767     176.618\n",
            "===================================================================================\n",
            "Ljung-Box (L1) (Q):                   3.60   Jarque-Bera (JB):                 0.28\n",
            "Prob(Q):                              0.06   Prob(JB):                         0.87\n",
            "Heteroskedasticity (H):               2.29   Skew:                            -0.21\n",
            "Prob(H) (two-sided):                  0.15   Kurtosis:                         3.05\n",
            "===================================================================================\n",
            "\n",
            "Warnings:\n",
            "[1] Covariance matrix calculated using the outer product of gradients (complex-step).\n"
          ]
        },
        {
          "output_type": "display_data",
          "data": {
            "text/plain": [
              "<Figure size 1000x600 with 1 Axes>"
            ],
            "image/png": "[encoded data removed]"
          },
          "metadata": {}
        },
        {
          "output_type": "display_data",
          "data": {
            "text/plain": [
              "<Figure size 1000x600 with 1 Axes>"
            ],
            "image/png": "[encoded data removed]"
          },
          "metadata": {}
        }
      ]
    }
  ]
}