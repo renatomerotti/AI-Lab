{
  "nbformat": 4,
  "nbformat_minor": 0,
  "metadata": {
    "colab": {
      "provenance": []
    },
    "kernelspec": {
      "name": "python3",
      "display_name": "Python 3"
    },
    "language_info": {
      "name": "python"
    }
  },
  "cells": [
    {
      "cell_type": "code",
      "source": [
        "import pandas as pd\n",
        "\n",
        "# Load the datasets\n",
        "gdp_data = pd.read_csv('GDP_data.csv')\n",
        "unemployment_data = pd.read_csv('Unemployment_data.csv')\n",
        "inflation_data = pd.read_csv('Inflation_data.csv')\n",
        "\n",
        "# Merge datasets on the 'Year' or 'Quarter' column\n",
        "merged_data = pd.merge(gdp_data, unemployment_data, on='Date')\n",
        "merged_data = pd.merge(merged_data, inflation_data, on='Date')\n",
        "\n",
        "# Save the merged dataset\n",
        "merged_data.to_csv('merged_economic_data.csv', index=False)\n"
      ],
      "metadata": {
        "id": "8mbUegauBWPL"
      },
      "execution_count": null,
      "outputs": []
    }
  ]
}