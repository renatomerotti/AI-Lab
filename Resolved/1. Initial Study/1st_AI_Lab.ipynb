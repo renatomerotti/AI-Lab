{
  "cells": [
    {
      "cell_type": "markdown",
      "metadata": {
        "id": "4jGR6MxEl0uX"
      },
      "source": [
        "# **Step 1: Setting Up the Environment**\n"
      ]
    },
    {
      "cell_type": "markdown",
      "metadata": {
        "id": "u6jr85pb2UoZ"
      },
      "source": [
        "**Login and create a new notebook**\n",
        "\n",
        "Required Libraries:\n",
        "pandas and scikit-learn\n",
        "\n",
        "*   Colab already has **pandas** and **scikit-learn** pre-installed\n",
        "\n",
        "\n",
        "Library: **pandas** for data manipulation\n",
        "\n",
        "Library: **scikit-learn** to implement the model"
      ]
    },
    {
      "cell_type": "markdown",
      "metadata": {
        "id": "dVM4ToSdtT65"
      },
      "source": [
        "# **Step 2: Importing Libraries and Loading the Dataset**"
      ]
    },
    {
      "cell_type": "markdown",
      "metadata": {
        "id": "a_8ocFcrt6rG"
      },
      "source": [
        "### **2.1 Import the Libraries**"
      ]
    },
    {
      "cell_type": "code",
      "execution_count": null,
      "metadata": {
        "id": "DK5sthyfm0Jc"
      },
      "outputs": [],
      "source": [
        "import pandas as pd\n",
        "import numpy as np\n",
        "from sklearn.linear_model import LinearRegression\n",
        "from sklearn.model_selection import train_test_split\n",
        "from sklearn.metrics import mean_squared_error, r2_score"
      ]
    },
    {
      "cell_type": "markdown",
      "metadata": {
        "id": "KrsCU9bCnJ6k"
      },
      "source": [
        "**Explanation:**\n",
        "\n",
        "* pandas: to handle and analyze the dataset.\n",
        "* numpy: For numerical operations.\n",
        "* LinearRegression: To build our supervised learning model.\n",
        "* train_test_split: To split the dataset into training and testing sets.\n",
        "* mean_squared_error and r2_score: To evaluate the model’s performance."
      ]
    },
    {
      "cell_type": "markdown",
      "metadata": {
        "id": "_ez0Y9IznqET"
      },
      "source": [
        "### **2.2 Load the Dataset**\n",
        "\n",
        "Click the Files icon on the left panel and select Upload\n"
      ]
    },
    {
      "cell_type": "code",
      "execution_count": null,
      "metadata": {
        "colab": {
          "base_uri": "https://localhost:8080/",
          "height": 206
        },
        "id": "FJ0LltMclsdH",
        "outputId": "bc830868-e402-4762-fe17-84b1f6bafa52"
      },
      "outputs": [],
      "source": [
        "data = pd.read_csv('/content/economic_data.csv')  # Make sure the path matches your file's name\n",
        "data.head()\n"
      ]
    },
    {
      "cell_type": "markdown",
      "metadata": {
        "id": "PIwB-ovmoFSj"
      },
      "source": [
        "**Explanation:**\n",
        "\n",
        "Reads the CSV file and shows the first few rows to confirm the data has been loaded correctly.\n"
      ]
    },
    {
      "cell_type": "markdown",
      "metadata": {
        "id": "obGdzZXUomi_"
      },
      "source": [
        "# **STEP 3: Data Exploration and Preprocessing**\n",
        "\n"
      ]
    },
    {
      "cell_type": "markdown",
      "metadata": {
        "id": "hqfJIk0HuMVq"
      },
      "source": [
        "### **3.1. Explore the Dataset**"
      ]
    },
    {
      "cell_type": "code",
      "execution_count": null,
      "metadata": {
        "colab": {
          "base_uri": "https://localhost:8080/"
        },
        "id": "oMF13xIUo49-",
        "outputId": "869d996c-fb13-4742-f473-33d3084c3e4c"
      },
      "outputs": [],
      "source": [
        "data.info()\n"
      ]
    },
    {
      "cell_type": "markdown",
      "metadata": {
        "id": "PbZtLbfAo-Xl"
      },
      "source": [
        "**Explanation:**\n",
        "\n",
        "Shows the data types and if there are any missing values."
      ]
    },
    {
      "cell_type": "code",
      "execution_count": null,
      "metadata": {
        "colab": {
          "base_uri": "https://localhost:8080/",
          "height": 777
        },
        "id": "O48qn4sYqY2W",
        "outputId": "88c01d0b-d29c-4694-f103-43ba41bb3dee"
      },
      "outputs": [],
      "source": [
        "data.describe()"
      ]
    },
    {
      "cell_type": "markdown",
      "metadata": {
        "id": "m1AtcA7qqbxF"
      },
      "source": [
        "**Explanation:**\n",
        "\n",
        "To see basic statistics."
      ]
    },
    {
      "cell_type": "markdown",
      "metadata": {
        "id": "WpyhkLyVr6w1"
      },
      "source": [
        "### **3.2 Data Cleaning**\n",
        "\n"
      ]
    },
    {
      "cell_type": "code",
      "execution_count": null,
      "metadata": {
        "id": "dnvVt_G6qrK1"
      },
      "outputs": [],
      "source": [
        "data = data.dropna()"
      ]
    },
    {
      "cell_type": "markdown",
      "metadata": {
        "id": "-Mfyio1yr9qg"
      },
      "source": [
        "**Explanation:**\n",
        "\n",
        "Removes any rows where there are missing values."
      ]
    },
    {
      "cell_type": "markdown",
      "metadata": {
        "id": "T5_Gs5cPsZnI"
      },
      "source": [
        "### **3.3 Feature Selection**\n",
        "\n",
        "Identify the columns (features) that you’ll use for prediction.\n",
        "\n",
        "For example, we might want to predict GDP growth (GDP_growth) using the unemployment rate (unemployment_rate) and inflation rate (inflation_rate):"
      ]
    },
    {
      "cell_type": "code",
      "execution_count": null,
      "metadata": {
        "id": "F4NdYWSNsgev"
      },
      "outputs": [],
      "source": [
        "features = ['unemployment_rate', 'inflation_rate']\n",
        "target = 'GDP_growth'\n",
        "X = data[features]\n",
        "y = data[target]\n"
      ]
    },
    {
      "cell_type": "markdown",
      "metadata": {
        "id": "VDjXwiCRshxn"
      },
      "source": [
        "**Explanation:**\n",
        "\n",
        "X is the input features (what we use to predict).\n",
        "y is the target variable (what we want to predict)."
      ]
    },
    {
      "cell_type": "markdown",
      "metadata": {
        "id": "DcbSzhcgoHbi"
      },
      "source": [
        "# **Step 4: Building the Supervised Learning Model**"
      ]
    },
    {
      "cell_type": "markdown",
      "metadata": {
        "id": "MJZeULz-vF6H"
      },
      "source": [
        "### **4.1 Splitting the Dataset**"
      ]
    },
    {
      "cell_type": "markdown",
      "metadata": {
        "id": "fYrJeVqh0b5H"
      },
      "source": [
        "Split the data into training and testing sets"
      ]
    },
    {
      "cell_type": "code",
      "execution_count": null,
      "metadata": {
        "id": "a2m5BGjmvPpg"
      },
      "outputs": [],
      "source": [
        "X_train, X_test, y_train, y_test = train_test_split(X, y, test_size=0.2, random_state=42)\n"
      ]
    },
    {
      "cell_type": "markdown",
      "metadata": {
        "id": "CJ9ZP2e3vThc"
      },
      "source": [
        "**Explanation:**\n",
        "\n",
        "X_train and y_train: Data used to train the model (80% of the dataset).\n",
        "\n",
        "X_test and y_test: Data used to test the model (20% of the dataset)."
      ]
    },
    {
      "cell_type": "markdown",
      "metadata": {
        "id": "UGmCLhN8vk9z"
      },
      "source": [
        "### **4.2 Training the Model**"
      ]
    },
    {
      "cell_type": "markdown",
      "metadata": {
        "id": "bSQQrGcb0VVH"
      },
      "source": [
        "Create an instance of the Linear Regression model and train it using the training data."
      ]
    },
    {
      "cell_type": "code",
      "execution_count": null,
      "metadata": {
        "id": "6rv0smGpvwIW"
      },
      "outputs": [],
      "source": [
        "model = LinearRegression()\n",
        "model.fit(X_train, y_train)\n"
      ]
    },
    {
      "cell_type": "markdown",
      "metadata": {
        "id": "T4rqkbAOv2yS"
      },
      "source": [
        "**Explanation:**\n",
        "\n",
        "fit() is the method that trains the model using X_train and y_train."
      ]
    },
    {
      "cell_type": "markdown",
      "metadata": {
        "id": "yT1_U6gawEVI"
      },
      "source": [
        "### **4.3 Making Predictions**"
      ]
    },
    {
      "cell_type": "markdown",
      "metadata": {
        "id": "oLShEKyM0Q_l"
      },
      "source": [
        "Using the model to make predictions on the test data."
      ]
    },
    {
      "cell_type": "code",
      "execution_count": null,
      "metadata": {
        "id": "5pP3QOQ8wR_M"
      },
      "outputs": [],
      "source": [
        "predictions = model.predict(X_test)\n"
      ]
    },
    {
      "cell_type": "markdown",
      "metadata": {
        "id": "45BkjIOlwWzG"
      },
      "source": [
        "**Explanation:**\n",
        "\n",
        "This code predicts GDP growth using the test set and stores the predictions in the variable predictions."
      ]
    },
    {
      "cell_type": "markdown",
      "metadata": {
        "id": "TQeE6ZwHwnsP"
      },
      "source": [
        "# **Step 5: Evaluating the Model**"
      ]
    },
    {
      "cell_type": "markdown",
      "metadata": {
        "id": "nLo8EiasynW9"
      },
      "source": [
        "### **5.1 Calculate Performance Metrics**"
      ]
    },
    {
      "cell_type": "markdown",
      "metadata": {
        "id": "dczDkGcE0IVW"
      },
      "source": [
        "Measure how well the model performs using R-squared and Mean Squared Error (MSE)"
      ]
    },
    {
      "cell_type": "code",
      "execution_count": null,
      "metadata": {
        "id": "6v-Ny6GywyGc"
      },
      "outputs": [],
      "source": [
        "r2 = r2_score(y_test, predictions)\n",
        "mse = mean_squared_error(y_test, predictions)\n",
        "print(f'R-squared: {r2}')\n",
        "print(f'Mean Squared Error: {mse}')\n"
      ]
    },
    {
      "cell_type": "markdown",
      "metadata": {
        "id": "-98DkSI9yafy"
      },
      "source": [
        "**Explanation:**\n",
        "\n",
        "R-squared tells us how much of the variation in GDP growth the model explains. The closer it is to 1, the better.\n",
        "\n",
        "MSE measures the average squared differences between predicted and actual values. A lower value indicates a better model."
      ]
    },
    {
      "cell_type": "markdown",
      "metadata": {
        "id": "qeSZYFE-y6ZN"
      },
      "source": [
        "### **5.2 Interpreting the Results**"
      ]
    },
    {
      "cell_type": "markdown",
      "metadata": {
        "id": "280Joc-SwP_s"
      },
      "source": [
        "Look at the values of R-squared and MSE. Discuss with your peers whether these values indicate a good or poor model performance."
      ]
    },
    {
      "cell_type": "markdown",
      "metadata": {
        "id": "e5nyZsrezF1g"
      },
      "source": [
        "# **Step 6: Improving the Model**"
      ]
    },
    {
      "cell_type": "markdown",
      "metadata": {
        "id": "sJRcaYCDzM0G"
      },
      "source": [
        "### **6.1 Feature Engineering**"
      ]
    },
    {
      "cell_type": "markdown",
      "metadata": {
        "id": "tYJKfrNW0CmG"
      },
      "source": [
        "Add new features that may improve the model’s performance. For example, you might add lag values of the unemployment rate to capture trends."
      ]
    },
    {
      "cell_type": "code",
      "execution_count": null,
      "metadata": {
        "id": "Mq2I7ETezxvf"
      },
      "outputs": [],
      "source": [
        "data['unemployment_rate_lag1'] = data['unemployment_rate'].shift(1)\n",
        "X = data[['unemployment_rate', 'inflation_rate', 'unemployment_rate_lag1']].dropna()\n"
      ]
    },
    {
      "cell_type": "markdown",
      "metadata": {
        "id": "zKavCWybzy04"
      },
      "source": [
        "**Explanation:**\n",
        "\n",
        "This code adds a new feature, the lagged unemployment rate, which may provide additional insight."
      ]
    },
    {
      "cell_type": "markdown",
      "metadata": {
        "id": "L-XWBvSLzbnf"
      },
      "source": [
        "### **6.2 Applying Regularization (Ridge Regression)**"
      ]
    },
    {
      "cell_type": "markdown",
      "metadata": {
        "id": "DVvMo9oV0uDb"
      },
      "source": [
        "Use Ridge regression to see if it improves the model by preventing overfitting."
      ]
    },
    {
      "cell_type": "code",
      "execution_count": null,
      "metadata": {
        "id": "ewMc_cHV0vYe"
      },
      "outputs": [],
      "source": [
        "from sklearn.linear_model import Ridge\n",
        "ridge_model = Ridge(alpha=1.0)\n",
        "ridge_model.fit(X_train, y_train)\n",
        "ridge_predictions = ridge_model.predict(X_test)\n"
      ]
    },
    {
      "cell_type": "markdown",
      "metadata": {
        "id": "eo48qdt-0x4Q"
      },
      "source": [
        "**Explanation:**\n",
        "\n",
        "Ridge regression includes a penalty to prevent the model from becoming too complex."
      ]
    },
    {
      "cell_type": "markdown",
      "metadata": {
        "id": "bQHZKzSPzpEU"
      },
      "source": [
        "### **6.3 Cross-Validation**"
      ]
    },
    {
      "cell_type": "markdown",
      "metadata": {
        "id": "dEmv5mdC09Ot"
      },
      "source": [
        "Use cross-validation to validate the model’s robustness."
      ]
    },
    {
      "cell_type": "code",
      "execution_count": null,
      "metadata": {
        "id": "witkKi0p0-vQ"
      },
      "outputs": [],
      "source": [
        "from sklearn.model_selection import cross_val_score\n",
        "from sklearn.linear_model import LinearRegression\n",
        "import pandas as pd\n",
        "\n",
        "# Make sure X and y are properly set up with no missing values and are numeric\n",
        "X = data[['unemployment_rate', 'inflation_rate']].dropna()\n",
        "y = data['GDP_growth'].dropna()\n",
        "\n",
        "# Initialize the model\n",
        "model = LinearRegression()\n",
        "\n",
        "# Apply cross-validation\n",
        "scores = cross_val_score(model, X, y, cv=5)\n",
        "print(f'Cross-validation scores: {scores}')\n",
        "print(f'Average Cross-validation score: {scores.mean()}')\n"
      ]
    },
    {
      "cell_type": "markdown",
      "metadata": {
        "id": "RSE0y1iy1DF5"
      },
      "source": [
        "**Explanation:**\n",
        "\n",
        "Cross-validation helps ensure that the model performs well on different subsets of data."
      ]
    },
    {
      "cell_type": "markdown",
      "metadata": {
        "id": "4uwDp5io1KcY"
      },
      "source": [
        "# **Step 7: Reflection and Discussion**\n"
      ]
    },
    {
      "cell_type": "markdown",
      "metadata": {
        "id": "MjAWejVM2QHl"
      },
      "source": [
        "**Share Results**\n",
        "\n",
        "Discuss the performance metrics you obtained. Did different features or models (e.g., Ridge) improve the results?\n",
        "\n",
        "**Identify Challenges**\n",
        "\n",
        "Talk about any difficulties you encountered. Did you have trouble with missing values or selecting features?\n",
        "\n",
        "**Applications in Real Life**\n",
        "\n",
        "Reflect on how such models could be useful in predicting economic growth and aiding decision-making in economics."
      ]
    }
  ],
  "metadata": {
    "colab": {
      "provenance": []
    },
    "kernelspec": {
      "display_name": "Python 3",
      "name": "python3"
    },
    "language_info": {
      "name": "python"
    }
  },
  "nbformat": 4,
  "nbformat_minor": 0
}
